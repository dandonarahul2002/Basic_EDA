{
 "cells": [
  {
   "cell_type": "markdown",
   "id": "88c68e72",
   "metadata": {},
   "source": [
    "# US Accidents Exploratory Data Analysis\n",
    "    TODO - talk about EDA\n",
    "    TODO - talk about the dataset(source, what it contains, how it will be useful)\n",
    "   - Kaggle \n",
    "   - information about accidents\n",
    "   - can use to prevent accidents"
   ]
  },
  {
   "cell_type": "markdown",
   "id": "7b49745e",
   "metadata": {},
   "source": [
    "##  Download the data"
   ]
  },
  {
   "cell_type": "code",
   "execution_count": 1,
   "id": "c0e0cec4",
   "metadata": {},
   "outputs": [
    {
     "name": "stdout",
     "output_type": "stream",
     "text": [
      "Note: you may need to restart the kernel to use updated packages.\n"
     ]
    }
   ],
   "source": [
    "pip install opendatasets --upgrade --quiet"
   ]
  },
  {
   "cell_type": "code",
   "execution_count": 2,
   "id": "31e766be",
   "metadata": {},
   "outputs": [
    {
     "name": "stdout",
     "output_type": "stream",
     "text": [
      "Skipping, found downloaded files in \"./us-accidents\" (use force=True to force download)\n"
     ]
    }
   ],
   "source": [
    "import opendatasets as od\n",
    "\n",
    "download_url = 'https://www.kaggle.com/sobhanmoosavi/us-accidents'\n",
    "\n",
    "od.download(download_url)"
   ]
  },
  {
   "cell_type": "code",
   "execution_count": 3,
   "id": "c421ad1b",
   "metadata": {},
   "outputs": [],
   "source": [
    "data_filename = '/Users/rahuldandona/Desktop/DataScience copy/Week3/EDA/us-accidents/US_Accidents_Dec20_updated.csv'"
   ]
  },
  {
   "cell_type": "code",
   "execution_count": null,
   "id": "dbe066aa",
   "metadata": {},
   "outputs": [],
   "source": []
  },
  {
   "cell_type": "markdown",
   "id": "af205228",
   "metadata": {},
   "source": [
    "## Data Preperation and Cleaning\n",
    "- Load file using Pandas\n",
    "- Look at some info about the data & the columns\n",
    "- Fix any missing or incorrect values"
   ]
  },
  {
   "cell_type": "code",
   "execution_count": 4,
   "id": "c93d0970",
   "metadata": {},
   "outputs": [],
   "source": [
    "import pandas as pd"
   ]
  },
  {
   "cell_type": "code",
   "execution_count": 5,
   "id": "18be5f12",
   "metadata": {},
   "outputs": [],
   "source": [
    "df = pd.read_csv(data_filename)"
   ]
  },
  {
   "cell_type": "code",
   "execution_count": 6,
   "id": "8ca8ce55",
   "metadata": {},
   "outputs": [
    {
     "data": {
      "text/html": [
       "<div>\n",
       "<style scoped>\n",
       "    .dataframe tbody tr th:only-of-type {\n",
       "        vertical-align: middle;\n",
       "    }\n",
       "\n",
       "    .dataframe tbody tr th {\n",
       "        vertical-align: top;\n",
       "    }\n",
       "\n",
       "    .dataframe thead th {\n",
       "        text-align: right;\n",
       "    }\n",
       "</style>\n",
       "<table border=\"1\" class=\"dataframe\">\n",
       "  <thead>\n",
       "    <tr style=\"text-align: right;\">\n",
       "      <th></th>\n",
       "      <th>ID</th>\n",
       "      <th>Severity</th>\n",
       "      <th>Start_Time</th>\n",
       "      <th>End_Time</th>\n",
       "      <th>Start_Lat</th>\n",
       "      <th>Start_Lng</th>\n",
       "      <th>End_Lat</th>\n",
       "      <th>End_Lng</th>\n",
       "      <th>Distance(mi)</th>\n",
       "      <th>Description</th>\n",
       "      <th>...</th>\n",
       "      <th>Roundabout</th>\n",
       "      <th>Station</th>\n",
       "      <th>Stop</th>\n",
       "      <th>Traffic_Calming</th>\n",
       "      <th>Traffic_Signal</th>\n",
       "      <th>Turning_Loop</th>\n",
       "      <th>Sunrise_Sunset</th>\n",
       "      <th>Civil_Twilight</th>\n",
       "      <th>Nautical_Twilight</th>\n",
       "      <th>Astronomical_Twilight</th>\n",
       "    </tr>\n",
       "  </thead>\n",
       "  <tbody>\n",
       "    <tr>\n",
       "      <th>0</th>\n",
       "      <td>A-2716600</td>\n",
       "      <td>3</td>\n",
       "      <td>2016-02-08 00:37:08</td>\n",
       "      <td>2016-02-08 06:37:08</td>\n",
       "      <td>40.10891</td>\n",
       "      <td>-83.09286</td>\n",
       "      <td>40.11206</td>\n",
       "      <td>-83.03187</td>\n",
       "      <td>3.230</td>\n",
       "      <td>Between Sawmill Rd/Exit 20 and OH-315/Olentang...</td>\n",
       "      <td>...</td>\n",
       "      <td>False</td>\n",
       "      <td>False</td>\n",
       "      <td>False</td>\n",
       "      <td>False</td>\n",
       "      <td>False</td>\n",
       "      <td>False</td>\n",
       "      <td>Night</td>\n",
       "      <td>Night</td>\n",
       "      <td>Night</td>\n",
       "      <td>Night</td>\n",
       "    </tr>\n",
       "    <tr>\n",
       "      <th>1</th>\n",
       "      <td>A-2716601</td>\n",
       "      <td>2</td>\n",
       "      <td>2016-02-08 05:56:20</td>\n",
       "      <td>2016-02-08 11:56:20</td>\n",
       "      <td>39.86542</td>\n",
       "      <td>-84.06280</td>\n",
       "      <td>39.86501</td>\n",
       "      <td>-84.04873</td>\n",
       "      <td>0.747</td>\n",
       "      <td>At OH-4/OH-235/Exit 41 - Accident.</td>\n",
       "      <td>...</td>\n",
       "      <td>False</td>\n",
       "      <td>False</td>\n",
       "      <td>False</td>\n",
       "      <td>False</td>\n",
       "      <td>False</td>\n",
       "      <td>False</td>\n",
       "      <td>Night</td>\n",
       "      <td>Night</td>\n",
       "      <td>Night</td>\n",
       "      <td>Night</td>\n",
       "    </tr>\n",
       "    <tr>\n",
       "      <th>2</th>\n",
       "      <td>A-2716602</td>\n",
       "      <td>2</td>\n",
       "      <td>2016-02-08 06:15:39</td>\n",
       "      <td>2016-02-08 12:15:39</td>\n",
       "      <td>39.10266</td>\n",
       "      <td>-84.52468</td>\n",
       "      <td>39.10209</td>\n",
       "      <td>-84.52396</td>\n",
       "      <td>0.055</td>\n",
       "      <td>At I-71/US-50/Exit 1 - Accident.</td>\n",
       "      <td>...</td>\n",
       "      <td>False</td>\n",
       "      <td>False</td>\n",
       "      <td>False</td>\n",
       "      <td>False</td>\n",
       "      <td>False</td>\n",
       "      <td>False</td>\n",
       "      <td>Night</td>\n",
       "      <td>Night</td>\n",
       "      <td>Night</td>\n",
       "      <td>Day</td>\n",
       "    </tr>\n",
       "    <tr>\n",
       "      <th>3</th>\n",
       "      <td>A-2716603</td>\n",
       "      <td>2</td>\n",
       "      <td>2016-02-08 06:15:39</td>\n",
       "      <td>2016-02-08 12:15:39</td>\n",
       "      <td>39.10148</td>\n",
       "      <td>-84.52341</td>\n",
       "      <td>39.09841</td>\n",
       "      <td>-84.52241</td>\n",
       "      <td>0.219</td>\n",
       "      <td>At I-71/US-50/Exit 1 - Accident.</td>\n",
       "      <td>...</td>\n",
       "      <td>False</td>\n",
       "      <td>False</td>\n",
       "      <td>False</td>\n",
       "      <td>False</td>\n",
       "      <td>False</td>\n",
       "      <td>False</td>\n",
       "      <td>Night</td>\n",
       "      <td>Night</td>\n",
       "      <td>Night</td>\n",
       "      <td>Day</td>\n",
       "    </tr>\n",
       "    <tr>\n",
       "      <th>4</th>\n",
       "      <td>A-2716604</td>\n",
       "      <td>2</td>\n",
       "      <td>2016-02-08 06:51:45</td>\n",
       "      <td>2016-02-08 12:51:45</td>\n",
       "      <td>41.06213</td>\n",
       "      <td>-81.53784</td>\n",
       "      <td>41.06217</td>\n",
       "      <td>-81.53547</td>\n",
       "      <td>0.123</td>\n",
       "      <td>At Dart Ave/Exit 21 - Accident.</td>\n",
       "      <td>...</td>\n",
       "      <td>False</td>\n",
       "      <td>False</td>\n",
       "      <td>False</td>\n",
       "      <td>False</td>\n",
       "      <td>False</td>\n",
       "      <td>False</td>\n",
       "      <td>Night</td>\n",
       "      <td>Night</td>\n",
       "      <td>Day</td>\n",
       "      <td>Day</td>\n",
       "    </tr>\n",
       "  </tbody>\n",
       "</table>\n",
       "<p>5 rows × 47 columns</p>\n",
       "</div>"
      ],
      "text/plain": [
       "          ID  Severity           Start_Time             End_Time  Start_Lat  \\\n",
       "0  A-2716600         3  2016-02-08 00:37:08  2016-02-08 06:37:08   40.10891   \n",
       "1  A-2716601         2  2016-02-08 05:56:20  2016-02-08 11:56:20   39.86542   \n",
       "2  A-2716602         2  2016-02-08 06:15:39  2016-02-08 12:15:39   39.10266   \n",
       "3  A-2716603         2  2016-02-08 06:15:39  2016-02-08 12:15:39   39.10148   \n",
       "4  A-2716604         2  2016-02-08 06:51:45  2016-02-08 12:51:45   41.06213   \n",
       "\n",
       "   Start_Lng   End_Lat   End_Lng  Distance(mi)  \\\n",
       "0  -83.09286  40.11206 -83.03187         3.230   \n",
       "1  -84.06280  39.86501 -84.04873         0.747   \n",
       "2  -84.52468  39.10209 -84.52396         0.055   \n",
       "3  -84.52341  39.09841 -84.52241         0.219   \n",
       "4  -81.53784  41.06217 -81.53547         0.123   \n",
       "\n",
       "                                         Description  ...  Roundabout Station  \\\n",
       "0  Between Sawmill Rd/Exit 20 and OH-315/Olentang...  ...       False   False   \n",
       "1                 At OH-4/OH-235/Exit 41 - Accident.  ...       False   False   \n",
       "2                   At I-71/US-50/Exit 1 - Accident.  ...       False   False   \n",
       "3                   At I-71/US-50/Exit 1 - Accident.  ...       False   False   \n",
       "4                    At Dart Ave/Exit 21 - Accident.  ...       False   False   \n",
       "\n",
       "    Stop Traffic_Calming Traffic_Signal Turning_Loop Sunrise_Sunset  \\\n",
       "0  False           False          False        False          Night   \n",
       "1  False           False          False        False          Night   \n",
       "2  False           False          False        False          Night   \n",
       "3  False           False          False        False          Night   \n",
       "4  False           False          False        False          Night   \n",
       "\n",
       "  Civil_Twilight Nautical_Twilight Astronomical_Twilight  \n",
       "0          Night             Night                 Night  \n",
       "1          Night             Night                 Night  \n",
       "2          Night             Night                   Day  \n",
       "3          Night             Night                   Day  \n",
       "4          Night               Day                   Day  \n",
       "\n",
       "[5 rows x 47 columns]"
      ]
     },
     "execution_count": 6,
     "metadata": {},
     "output_type": "execute_result"
    }
   ],
   "source": [
    "df.head()"
   ]
  },
  {
   "cell_type": "code",
   "execution_count": 7,
   "id": "d67e4211",
   "metadata": {},
   "outputs": [
    {
     "data": {
      "text/plain": [
       "Index(['ID', 'Severity', 'Start_Time', 'End_Time', 'Start_Lat', 'Start_Lng',\n",
       "       'End_Lat', 'End_Lng', 'Distance(mi)', 'Description', 'Number', 'Street',\n",
       "       'Side', 'City', 'County', 'State', 'Zipcode', 'Country', 'Timezone',\n",
       "       'Airport_Code', 'Weather_Timestamp', 'Temperature(F)', 'Wind_Chill(F)',\n",
       "       'Humidity(%)', 'Pressure(in)', 'Visibility(mi)', 'Wind_Direction',\n",
       "       'Wind_Speed(mph)', 'Precipitation(in)', 'Weather_Condition', 'Amenity',\n",
       "       'Bump', 'Crossing', 'Give_Way', 'Junction', 'No_Exit', 'Railway',\n",
       "       'Roundabout', 'Station', 'Stop', 'Traffic_Calming', 'Traffic_Signal',\n",
       "       'Turning_Loop', 'Sunrise_Sunset', 'Civil_Twilight', 'Nautical_Twilight',\n",
       "       'Astronomical_Twilight'],\n",
       "      dtype='object')"
      ]
     },
     "execution_count": 7,
     "metadata": {},
     "output_type": "execute_result"
    }
   ],
   "source": [
    "df.columns"
   ]
  },
  {
   "cell_type": "code",
   "execution_count": 8,
   "id": "8a07fe1b",
   "metadata": {},
   "outputs": [
    {
     "data": {
      "text/html": [
       "<div>\n",
       "<style scoped>\n",
       "    .dataframe tbody tr th:only-of-type {\n",
       "        vertical-align: middle;\n",
       "    }\n",
       "\n",
       "    .dataframe tbody tr th {\n",
       "        vertical-align: top;\n",
       "    }\n",
       "\n",
       "    .dataframe thead th {\n",
       "        text-align: right;\n",
       "    }\n",
       "</style>\n",
       "<table border=\"1\" class=\"dataframe\">\n",
       "  <thead>\n",
       "    <tr style=\"text-align: right;\">\n",
       "      <th></th>\n",
       "      <th>Severity</th>\n",
       "      <th>Start_Lat</th>\n",
       "      <th>Start_Lng</th>\n",
       "      <th>End_Lat</th>\n",
       "      <th>End_Lng</th>\n",
       "      <th>Distance(mi)</th>\n",
       "      <th>Number</th>\n",
       "      <th>Temperature(F)</th>\n",
       "      <th>Wind_Chill(F)</th>\n",
       "      <th>Humidity(%)</th>\n",
       "      <th>Pressure(in)</th>\n",
       "      <th>Visibility(mi)</th>\n",
       "      <th>Wind_Speed(mph)</th>\n",
       "      <th>Precipitation(in)</th>\n",
       "    </tr>\n",
       "  </thead>\n",
       "  <tbody>\n",
       "    <tr>\n",
       "      <th>count</th>\n",
       "      <td>1.516064e+06</td>\n",
       "      <td>1.516064e+06</td>\n",
       "      <td>1.516064e+06</td>\n",
       "      <td>1.516064e+06</td>\n",
       "      <td>1.516064e+06</td>\n",
       "      <td>1.516064e+06</td>\n",
       "      <td>4.699690e+05</td>\n",
       "      <td>1.473031e+06</td>\n",
       "      <td>1.066748e+06</td>\n",
       "      <td>1.470555e+06</td>\n",
       "      <td>1.479790e+06</td>\n",
       "      <td>1.471853e+06</td>\n",
       "      <td>1.387202e+06</td>\n",
       "      <td>1.005515e+06</td>\n",
       "    </tr>\n",
       "    <tr>\n",
       "      <th>mean</th>\n",
       "      <td>2.238630e+00</td>\n",
       "      <td>3.690056e+01</td>\n",
       "      <td>-9.859919e+01</td>\n",
       "      <td>3.690061e+01</td>\n",
       "      <td>-9.859901e+01</td>\n",
       "      <td>5.872617e-01</td>\n",
       "      <td>8.907533e+03</td>\n",
       "      <td>5.958460e+01</td>\n",
       "      <td>5.510976e+01</td>\n",
       "      <td>6.465960e+01</td>\n",
       "      <td>2.955495e+01</td>\n",
       "      <td>9.131755e+00</td>\n",
       "      <td>7.630812e+00</td>\n",
       "      <td>8.477855e-03</td>\n",
       "    </tr>\n",
       "    <tr>\n",
       "      <th>std</th>\n",
       "      <td>6.081481e-01</td>\n",
       "      <td>5.165653e+00</td>\n",
       "      <td>1.849602e+01</td>\n",
       "      <td>5.165629e+00</td>\n",
       "      <td>1.849590e+01</td>\n",
       "      <td>1.632659e+00</td>\n",
       "      <td>2.242190e+04</td>\n",
       "      <td>1.827316e+01</td>\n",
       "      <td>2.112735e+01</td>\n",
       "      <td>2.325986e+01</td>\n",
       "      <td>1.016756e+00</td>\n",
       "      <td>2.889112e+00</td>\n",
       "      <td>5.637364e+00</td>\n",
       "      <td>1.293168e-01</td>\n",
       "    </tr>\n",
       "    <tr>\n",
       "      <th>min</th>\n",
       "      <td>1.000000e+00</td>\n",
       "      <td>2.457022e+01</td>\n",
       "      <td>-1.244976e+02</td>\n",
       "      <td>2.457011e+01</td>\n",
       "      <td>-1.244978e+02</td>\n",
       "      <td>0.000000e+00</td>\n",
       "      <td>0.000000e+00</td>\n",
       "      <td>-8.900000e+01</td>\n",
       "      <td>-8.900000e+01</td>\n",
       "      <td>1.000000e+00</td>\n",
       "      <td>0.000000e+00</td>\n",
       "      <td>0.000000e+00</td>\n",
       "      <td>0.000000e+00</td>\n",
       "      <td>0.000000e+00</td>\n",
       "    </tr>\n",
       "    <tr>\n",
       "      <th>25%</th>\n",
       "      <td>2.000000e+00</td>\n",
       "      <td>3.385422e+01</td>\n",
       "      <td>-1.182076e+02</td>\n",
       "      <td>3.385420e+01</td>\n",
       "      <td>-1.182077e+02</td>\n",
       "      <td>0.000000e+00</td>\n",
       "      <td>1.212000e+03</td>\n",
       "      <td>4.700000e+01</td>\n",
       "      <td>4.080000e+01</td>\n",
       "      <td>4.800000e+01</td>\n",
       "      <td>2.944000e+01</td>\n",
       "      <td>1.000000e+01</td>\n",
       "      <td>4.600000e+00</td>\n",
       "      <td>0.000000e+00</td>\n",
       "    </tr>\n",
       "    <tr>\n",
       "      <th>50%</th>\n",
       "      <td>2.000000e+00</td>\n",
       "      <td>3.735113e+01</td>\n",
       "      <td>-9.438100e+01</td>\n",
       "      <td>3.735134e+01</td>\n",
       "      <td>-9.437987e+01</td>\n",
       "      <td>1.780000e-01</td>\n",
       "      <td>4.000000e+03</td>\n",
       "      <td>6.100000e+01</td>\n",
       "      <td>5.700000e+01</td>\n",
       "      <td>6.800000e+01</td>\n",
       "      <td>2.988000e+01</td>\n",
       "      <td>1.000000e+01</td>\n",
       "      <td>7.000000e+00</td>\n",
       "      <td>0.000000e+00</td>\n",
       "    </tr>\n",
       "    <tr>\n",
       "      <th>75%</th>\n",
       "      <td>2.000000e+00</td>\n",
       "      <td>4.072593e+01</td>\n",
       "      <td>-8.087469e+01</td>\n",
       "      <td>4.072593e+01</td>\n",
       "      <td>-8.087449e+01</td>\n",
       "      <td>5.940000e-01</td>\n",
       "      <td>1.010000e+04</td>\n",
       "      <td>7.300000e+01</td>\n",
       "      <td>7.100000e+01</td>\n",
       "      <td>8.400000e+01</td>\n",
       "      <td>3.004000e+01</td>\n",
       "      <td>1.000000e+01</td>\n",
       "      <td>1.040000e+01</td>\n",
       "      <td>0.000000e+00</td>\n",
       "    </tr>\n",
       "    <tr>\n",
       "      <th>max</th>\n",
       "      <td>4.000000e+00</td>\n",
       "      <td>4.900058e+01</td>\n",
       "      <td>-6.711317e+01</td>\n",
       "      <td>4.907500e+01</td>\n",
       "      <td>-6.710924e+01</td>\n",
       "      <td>1.551860e+02</td>\n",
       "      <td>9.999997e+06</td>\n",
       "      <td>1.706000e+02</td>\n",
       "      <td>1.130000e+02</td>\n",
       "      <td>1.000000e+02</td>\n",
       "      <td>5.804000e+01</td>\n",
       "      <td>1.400000e+02</td>\n",
       "      <td>9.840000e+02</td>\n",
       "      <td>2.400000e+01</td>\n",
       "    </tr>\n",
       "  </tbody>\n",
       "</table>\n",
       "</div>"
      ],
      "text/plain": [
       "           Severity     Start_Lat     Start_Lng       End_Lat       End_Lng  \\\n",
       "count  1.516064e+06  1.516064e+06  1.516064e+06  1.516064e+06  1.516064e+06   \n",
       "mean   2.238630e+00  3.690056e+01 -9.859919e+01  3.690061e+01 -9.859901e+01   \n",
       "std    6.081481e-01  5.165653e+00  1.849602e+01  5.165629e+00  1.849590e+01   \n",
       "min    1.000000e+00  2.457022e+01 -1.244976e+02  2.457011e+01 -1.244978e+02   \n",
       "25%    2.000000e+00  3.385422e+01 -1.182076e+02  3.385420e+01 -1.182077e+02   \n",
       "50%    2.000000e+00  3.735113e+01 -9.438100e+01  3.735134e+01 -9.437987e+01   \n",
       "75%    2.000000e+00  4.072593e+01 -8.087469e+01  4.072593e+01 -8.087449e+01   \n",
       "max    4.000000e+00  4.900058e+01 -6.711317e+01  4.907500e+01 -6.710924e+01   \n",
       "\n",
       "       Distance(mi)        Number  Temperature(F)  Wind_Chill(F)  \\\n",
       "count  1.516064e+06  4.699690e+05    1.473031e+06   1.066748e+06   \n",
       "mean   5.872617e-01  8.907533e+03    5.958460e+01   5.510976e+01   \n",
       "std    1.632659e+00  2.242190e+04    1.827316e+01   2.112735e+01   \n",
       "min    0.000000e+00  0.000000e+00   -8.900000e+01  -8.900000e+01   \n",
       "25%    0.000000e+00  1.212000e+03    4.700000e+01   4.080000e+01   \n",
       "50%    1.780000e-01  4.000000e+03    6.100000e+01   5.700000e+01   \n",
       "75%    5.940000e-01  1.010000e+04    7.300000e+01   7.100000e+01   \n",
       "max    1.551860e+02  9.999997e+06    1.706000e+02   1.130000e+02   \n",
       "\n",
       "        Humidity(%)  Pressure(in)  Visibility(mi)  Wind_Speed(mph)  \\\n",
       "count  1.470555e+06  1.479790e+06    1.471853e+06     1.387202e+06   \n",
       "mean   6.465960e+01  2.955495e+01    9.131755e+00     7.630812e+00   \n",
       "std    2.325986e+01  1.016756e+00    2.889112e+00     5.637364e+00   \n",
       "min    1.000000e+00  0.000000e+00    0.000000e+00     0.000000e+00   \n",
       "25%    4.800000e+01  2.944000e+01    1.000000e+01     4.600000e+00   \n",
       "50%    6.800000e+01  2.988000e+01    1.000000e+01     7.000000e+00   \n",
       "75%    8.400000e+01  3.004000e+01    1.000000e+01     1.040000e+01   \n",
       "max    1.000000e+02  5.804000e+01    1.400000e+02     9.840000e+02   \n",
       "\n",
       "       Precipitation(in)  \n",
       "count       1.005515e+06  \n",
       "mean        8.477855e-03  \n",
       "std         1.293168e-01  \n",
       "min         0.000000e+00  \n",
       "25%         0.000000e+00  \n",
       "50%         0.000000e+00  \n",
       "75%         0.000000e+00  \n",
       "max         2.400000e+01  "
      ]
     },
     "execution_count": 8,
     "metadata": {},
     "output_type": "execute_result"
    }
   ],
   "source": [
    "df.describe()"
   ]
  },
  {
   "cell_type": "code",
   "execution_count": 9,
   "id": "415d3d63",
   "metadata": {},
   "outputs": [
    {
     "data": {
      "text/plain": [
       "14"
      ]
     },
     "execution_count": 9,
     "metadata": {},
     "output_type": "execute_result"
    }
   ],
   "source": [
    "numerics = ['int16', 'int32', 'int64', 'float16', 'float32', 'float64']\n",
    "\n",
    "numeric_df = df.select_dtypes(include=numerics)\n",
    "len(numeric_df.columns)"
   ]
  },
  {
   "cell_type": "markdown",
   "id": "706d2bc9",
   "metadata": {},
   "source": [
    "#### Percentage of missing values per column"
   ]
  },
  {
   "cell_type": "code",
   "execution_count": 10,
   "id": "1b7c0232",
   "metadata": {},
   "outputs": [
    {
     "data": {
      "text/plain": [
       "Number                   0.690007\n",
       "Precipitation(in)        0.336760\n",
       "Wind_Chill(F)            0.296370\n",
       "Wind_Speed(mph)          0.084998\n",
       "Humidity(%)              0.030018\n",
       "Visibility(mi)           0.029162\n",
       "Weather_Condition        0.029027\n",
       "Temperature(F)           0.028385\n",
       "Wind_Direction           0.027610\n",
       "Pressure(in)             0.023926\n",
       "Weather_Timestamp        0.019962\n",
       "Airport_Code             0.002802\n",
       "Timezone                 0.001518\n",
       "Zipcode                  0.000617\n",
       "Sunrise_Sunset           0.000055\n",
       "Civil_Twilight           0.000055\n",
       "Nautical_Twilight        0.000055\n",
       "Astronomical_Twilight    0.000055\n",
       "City                     0.000055\n",
       "Country                  0.000000\n",
       "Give_Way                 0.000000\n",
       "Start_Time               0.000000\n",
       "End_Time                 0.000000\n",
       "Start_Lat                0.000000\n",
       "Turning_Loop             0.000000\n",
       "Traffic_Signal           0.000000\n",
       "Traffic_Calming          0.000000\n",
       "Stop                     0.000000\n",
       "Station                  0.000000\n",
       "Roundabout               0.000000\n",
       "Railway                  0.000000\n",
       "No_Exit                  0.000000\n",
       "Junction                 0.000000\n",
       "Crossing                 0.000000\n",
       "State                    0.000000\n",
       "Bump                     0.000000\n",
       "Amenity                  0.000000\n",
       "Start_Lng                0.000000\n",
       "End_Lat                  0.000000\n",
       "End_Lng                  0.000000\n",
       "Distance(mi)             0.000000\n",
       "Description              0.000000\n",
       "Street                   0.000000\n",
       "Severity                 0.000000\n",
       "Side                     0.000000\n",
       "County                   0.000000\n",
       "ID                       0.000000\n",
       "dtype: float64"
      ]
     },
     "execution_count": 10,
     "metadata": {},
     "output_type": "execute_result"
    }
   ],
   "source": [
    "missing_percentages = df.isna().sum().sort_values(ascending=False) / len(df)\n",
    "missing_percentages"
   ]
  },
  {
   "cell_type": "code",
   "execution_count": 11,
   "id": "03afb6a5",
   "metadata": {},
   "outputs": [
    {
     "data": {
      "text/plain": [
       "<AxesSubplot:>"
      ]
     },
     "execution_count": 11,
     "metadata": {},
     "output_type": "execute_result"
    },
    {
     "data": {
      "image/png": "[encoded data removed]",
      "text/plain": [
       "<Figure size 432x288 with 1 Axes>"
      ]
     },
     "metadata": {
      "needs_background": "light"
     },
     "output_type": "display_data"
    }
   ],
   "source": [
    "missing_percentages[missing_percentages != 0].plot(kind='barh')"
   ]
  },
  {
   "cell_type": "markdown",
   "id": "d45d3fdf",
   "metadata": {},
   "source": [
    "#### Remove columns that you don't want to use."
   ]
  },
  {
   "cell_type": "code",
   "execution_count": null,
   "id": "b27b6cb2",
   "metadata": {},
   "outputs": [],
   "source": []
  },
  {
   "cell_type": "code",
   "execution_count": null,
   "id": "6feb9c4d",
   "metadata": {},
   "outputs": [],
   "source": []
  },
  {
   "cell_type": "markdown",
   "id": "4dabed81",
   "metadata": {},
   "source": [
    "## Exploratory Analysis and Visualization\n",
    "Columns we'll analyze:\n",
    "- City\n",
    "- Start Time\n",
    "- Start Lat, Start Lng\n",
    "- Temperature\n",
    "- Weather Condition"
   ]
  },
  {
   "cell_type": "code",
   "execution_count": 12,
   "id": "f750e1d0",
   "metadata": {},
   "outputs": [
    {
     "data": {
      "text/plain": [
       "Index(['ID', 'Severity', 'Start_Time', 'End_Time', 'Start_Lat', 'Start_Lng',\n",
       "       'End_Lat', 'End_Lng', 'Distance(mi)', 'Description', 'Number', 'Street',\n",
       "       'Side', 'City', 'County', 'State', 'Zipcode', 'Country', 'Timezone',\n",
       "       'Airport_Code', 'Weather_Timestamp', 'Temperature(F)', 'Wind_Chill(F)',\n",
       "       'Humidity(%)', 'Pressure(in)', 'Visibility(mi)', 'Wind_Direction',\n",
       "       'Wind_Speed(mph)', 'Precipitation(in)', 'Weather_Condition', 'Amenity',\n",
       "       'Bump', 'Crossing', 'Give_Way', 'Junction', 'No_Exit', 'Railway',\n",
       "       'Roundabout', 'Station', 'Stop', 'Traffic_Calming', 'Traffic_Signal',\n",
       "       'Turning_Loop', 'Sunrise_Sunset', 'Civil_Twilight', 'Nautical_Twilight',\n",
       "       'Astronomical_Twilight'],\n",
       "      dtype='object')"
      ]
     },
     "execution_count": 12,
     "metadata": {},
     "output_type": "execute_result"
    }
   ],
   "source": [
    "df.columns"
   ]
  },
  {
   "cell_type": "markdown",
   "id": "d5fc7991",
   "metadata": {},
   "source": [
    "### City"
   ]
  },
  {
   "cell_type": "code",
   "execution_count": 17,
   "id": "94822f3f",
   "metadata": {},
   "outputs": [
    {
     "data": {
      "text/plain": [
       "0               Dublin\n",
       "1               Dayton\n",
       "2           Cincinnati\n",
       "3           Cincinnati\n",
       "4                Akron\n",
       "              ...     \n",
       "1516059      Riverside\n",
       "1516060      San Diego\n",
       "1516061         Orange\n",
       "1516062    Culver City\n",
       "1516063       Highland\n",
       "Name: City, Length: 1516064, dtype: object"
      ]
     },
     "execution_count": 17,
     "metadata": {},
     "output_type": "execute_result"
    }
   ],
   "source": [
    "df.City"
   ]
  },
  {
   "cell_type": "code",
   "execution_count": 19,
   "id": "2efb605f",
   "metadata": {},
   "outputs": [
    {
     "data": {
      "text/plain": [
       "10658"
      ]
     },
     "execution_count": 19,
     "metadata": {},
     "output_type": "execute_result"
    }
   ],
   "source": [
    "cities = df.City.unique()\n",
    "len(cities)"
   ]
  },
  {
   "cell_type": "code",
   "execution_count": 20,
   "id": "90031ad0",
   "metadata": {},
   "outputs": [
    {
     "data": {
      "text/plain": [
       "Los Angeles                     39984\n",
       "Miami                           36233\n",
       "Charlotte                       22203\n",
       "Houston                         20843\n",
       "Dallas                          19497\n",
       "                                ...  \n",
       "Manzanita                           1\n",
       "West Brooklyn                       1\n",
       "Garfield Heights                    1\n",
       "Belding                             1\n",
       "American Fork-Pleasant Grove        1\n",
       "Name: City, Length: 10657, dtype: int64"
      ]
     },
     "execution_count": 20,
     "metadata": {},
     "output_type": "execute_result"
    }
   ],
   "source": [
    "cities_by_accident = df.City.value_counts()\n",
    "cities_by_accident"
   ]
  },
  {
   "cell_type": "code",
   "execution_count": 21,
   "id": "3c8b1950",
   "metadata": {},
   "outputs": [
    {
     "data": {
      "text/plain": [
       "Los Angeles     39984\n",
       "Miami           36233\n",
       "Charlotte       22203\n",
       "Houston         20843\n",
       "Dallas          19497\n",
       "Sacramento      18431\n",
       "Orlando         16169\n",
       "Portland        14805\n",
       "San Diego       14090\n",
       "Minneapolis     12653\n",
       "Atlanta         11854\n",
       "Chicago         11507\n",
       "Saint Paul      10084\n",
       "Phoenix          9934\n",
       "Raleigh          9516\n",
       "San Jose         9362\n",
       "Richmond         8472\n",
       "Nashville        8381\n",
       "Riverside        8201\n",
       "Jacksonville     7815\n",
       "Name: City, dtype: int64"
      ]
     },
     "execution_count": 21,
     "metadata": {},
     "output_type": "execute_result"
    }
   ],
   "source": [
    "cities_by_accident[:20]"
   ]
  },
  {
   "cell_type": "code",
   "execution_count": 22,
   "id": "bb08d99c",
   "metadata": {},
   "outputs": [
    {
     "data": {
      "text/plain": [
       "<AxesSubplot:>"
      ]
     },
     "execution_count": 22,
     "metadata": {},
     "output_type": "execute_result"
    },
    {
     "data": {
      "image/png": "[encoded data removed]",
      "text/plain": [
       "<Figure size 432x288 with 1 Axes>"
      ]
     },
     "metadata": {
      "needs_background": "light"
     },
     "output_type": "display_data"
    }
   ],
   "source": [
    "cities_by_accident[:20].plot(kind='barh')"
   ]
  },
  {
   "cell_type": "code",
   "execution_count": 23,
   "id": "bbb14421",
   "metadata": {},
   "outputs": [],
   "source": [
    "import seaborn as sns\n",
    "sns.set_style(\"darkgrid\")"
   ]
  },
  {
   "cell_type": "code",
   "execution_count": 24,
   "id": "8beb9921",
   "metadata": {},
   "outputs": [
    {
     "data": {
      "text/plain": [
       "<AxesSubplot:xlabel='City', ylabel='Count'>"
      ]
     },
     "execution_count": 24,
     "metadata": {},
     "output_type": "execute_result"
    },
    {
     "data": {
      "image/png": "[encoded data removed]",
      "text/plain": [
       "<Figure size 432x288 with 1 Axes>"
      ]
     },
     "metadata": {},
     "output_type": "display_data"
    }
   ],
   "source": [
    "sns.histplot(cities_by_accident, log_scale=True)"
   ]
  },
  {
   "cell_type": "code",
   "execution_count": 25,
   "id": "6be6c7fb",
   "metadata": {},
   "outputs": [
    {
     "data": {
      "text/plain": [
       "South Paris                     1\n",
       "Aberdeen Proving Ground         1\n",
       "Rebecca                         1\n",
       "Hiltons                         1\n",
       "Jeanerette                      1\n",
       "                               ..\n",
       "Manzanita                       1\n",
       "West Brooklyn                   1\n",
       "Garfield Heights                1\n",
       "Belding                         1\n",
       "American Fork-Pleasant Grove    1\n",
       "Name: City, Length: 1167, dtype: int64"
      ]
     },
     "execution_count": 25,
     "metadata": {},
     "output_type": "execute_result"
    }
   ],
   "source": [
    "cities_by_accident[cities_by_accident == 1]"
   ]
  },
  {
   "cell_type": "markdown",
   "id": "7fee7779",
   "metadata": {},
   "source": [
    "### Start Time"
   ]
  },
  {
   "cell_type": "code",
   "execution_count": 26,
   "id": "8ce73d1c",
   "metadata": {},
   "outputs": [
    {
     "data": {
      "text/plain": [
       "0          2016-02-08 00:37:08\n",
       "1          2016-02-08 05:56:20\n",
       "2          2016-02-08 06:15:39\n",
       "3          2016-02-08 06:15:39\n",
       "4          2016-02-08 06:51:45\n",
       "                  ...         \n",
       "1516059    2019-08-23 18:03:25\n",
       "1516060    2019-08-23 19:11:30\n",
       "1516061    2019-08-23 19:00:21\n",
       "1516062    2019-08-23 19:00:21\n",
       "1516063    2019-08-23 18:52:06\n",
       "Name: Start_Time, Length: 1516064, dtype: object"
      ]
     },
     "execution_count": 26,
     "metadata": {},
     "output_type": "execute_result"
    }
   ],
   "source": [
    "df.Start_Time"
   ]
  },
  {
   "cell_type": "code",
   "execution_count": 27,
   "id": "281f3d38",
   "metadata": {},
   "outputs": [],
   "source": [
    "df.Start_Time = pd.to_datetime(df.Start_Time)"
   ]
  },
  {
   "cell_type": "code",
   "execution_count": 32,
   "id": "c01c24ac",
   "metadata": {},
   "outputs": [
    {
     "name": "stderr",
     "output_type": "stream",
     "text": [
      "/Users/rahuldandona/opt/anaconda3/lib/python3.9/site-packages/seaborn/distributions.py:2619: FutureWarning: `distplot` is a deprecated function and will be removed in a future version. Please adapt your code to use either `displot` (a figure-level function with similar flexibility) or `histplot` (an axes-level function for histograms).\n",
      "  warnings.warn(msg, FutureWarning)\n"
     ]
    },
    {
     "data": {
      "text/plain": [
       "<AxesSubplot:xlabel='Start_Time'>"
      ]
     },
     "execution_count": 32,
     "metadata": {},
     "output_type": "execute_result"
    },
    {
     "data": {
      "image/png": "[encoded data removed]",
      "text/plain": [
       "<Figure size 432x288 with 1 Axes>"
      ]
     },
     "metadata": {},
     "output_type": "display_data"
    }
   ],
   "source": [
    "sns.distplot(df.Start_Time.dt.hour, bins=24, kde=False, norm_hist=True)"
   ]
  },
  {
   "cell_type": "markdown",
   "id": "e55fe473",
   "metadata": {},
   "source": [
    "- A high percentage of accidents occur between 4PM to 6PM\n",
    "- Next higest percentage is 7AM to 9AM ."
   ]
  },
  {
   "cell_type": "code",
   "execution_count": 33,
   "id": "a1ff7619",
   "metadata": {},
   "outputs": [
    {
     "data": {
      "text/plain": [
       "<AxesSubplot:xlabel='Start_Time'>"
      ]
     },
     "execution_count": 33,
     "metadata": {},
     "output_type": "execute_result"
    },
    {
     "data": {
      "image/png": "[encoded data removed]",
      "text/plain": [
       "<Figure size 432x288 with 1 Axes>"
      ]
     },
     "metadata": {},
     "output_type": "display_data"
    }
   ],
   "source": [
    "sns.distplot(df.Start_Time.dt.dayofweek, bins=7, kde=False, norm_hist=True)"
   ]
  },
  {
   "cell_type": "markdown",
   "id": "e017dc04",
   "metadata": {},
   "source": [
    "- Accidents are low on Weekends "
   ]
  },
  {
   "cell_type": "markdown",
   "id": "184aeb1e",
   "metadata": {},
   "source": [
    "#### Is the distribution of accidents by hour the same on weekends as on weekdays ?"
   ]
  },
  {
   "cell_type": "code",
   "execution_count": 34,
   "id": "219547eb",
   "metadata": {},
   "outputs": [
    {
     "data": {
      "text/plain": [
       "<AxesSubplot:xlabel='Start_Time'>"
      ]
     },
     "execution_count": 34,
     "metadata": {},
     "output_type": "execute_result"
    },
    {
     "data": {
      "image/png": "[encoded data removed]",
      "text/plain": [
       "<Figure size 432x288 with 1 Axes>"
      ]
     },
     "metadata": {},
     "output_type": "display_data"
    }
   ],
   "source": [
    "sundays_start_time = df.Start_Time[df.Start_Time.dt.dayofweek == 6]\n",
    "sns.distplot(sundays_start_time.dt.hour, bins=24, kde=False, norm_hist=True)"
   ]
  },
  {
   "cell_type": "code",
   "execution_count": 35,
   "id": "17aa3de4",
   "metadata": {},
   "outputs": [
    {
     "data": {
      "text/plain": [
       "<AxesSubplot:xlabel='Start_Time'>"
      ]
     },
     "execution_count": 35,
     "metadata": {},
     "output_type": "execute_result"
    },
    {
     "data": {
      "image/png": "[encoded data removed]",
      "text/plain": [
       "<Figure size 432x288 with 1 Axes>"
      ]
     },
     "metadata": {},
     "output_type": "display_data"
    }
   ],
   "source": [
    "monday_start_time = df.Start_Time[df.Start_Time.dt.dayofweek == 0]\n",
    "sns.distplot(monday_start_time.dt.hour, bins=24, kde=False, norm_hist=True)"
   ]
  },
  {
   "cell_type": "markdown",
   "id": "7a4ae484",
   "metadata": {},
   "source": [
    "- On Sundays, peak time for accidents are during the evening, when people usually tend to go out, unlike the case for weekdays."
   ]
  },
  {
   "cell_type": "code",
   "execution_count": 41,
   "id": "8335bf5b",
   "metadata": {},
   "outputs": [
    {
     "data": {
      "text/html": [
       "<div>\n",
       "<style scoped>\n",
       "    .dataframe tbody tr th:only-of-type {\n",
       "        vertical-align: middle;\n",
       "    }\n",
       "\n",
       "    .dataframe tbody tr th {\n",
       "        vertical-align: top;\n",
       "    }\n",
       "\n",
       "    .dataframe thead th {\n",
       "        text-align: right;\n",
       "    }\n",
       "</style>\n",
       "<table border=\"1\" class=\"dataframe\">\n",
       "  <thead>\n",
       "    <tr style=\"text-align: right;\">\n",
       "      <th></th>\n",
       "      <th>ID</th>\n",
       "      <th>Severity</th>\n",
       "      <th>Start_Time</th>\n",
       "      <th>End_Time</th>\n",
       "      <th>Start_Lat</th>\n",
       "      <th>Start_Lng</th>\n",
       "      <th>End_Lat</th>\n",
       "      <th>End_Lng</th>\n",
       "      <th>Distance(mi)</th>\n",
       "      <th>Description</th>\n",
       "      <th>...</th>\n",
       "      <th>Roundabout</th>\n",
       "      <th>Station</th>\n",
       "      <th>Stop</th>\n",
       "      <th>Traffic_Calming</th>\n",
       "      <th>Traffic_Signal</th>\n",
       "      <th>Turning_Loop</th>\n",
       "      <th>Sunrise_Sunset</th>\n",
       "      <th>Civil_Twilight</th>\n",
       "      <th>Nautical_Twilight</th>\n",
       "      <th>Astronomical_Twilight</th>\n",
       "    </tr>\n",
       "  </thead>\n",
       "  <tbody>\n",
       "    <tr>\n",
       "      <th>265104</th>\n",
       "      <td>A-2982119</td>\n",
       "      <td>4</td>\n",
       "      <td>2019-10-19 04:30:00</td>\n",
       "      <td>2020-11-01 00:00:00.000000000</td>\n",
       "      <td>38.875540</td>\n",
       "      <td>-77.280396</td>\n",
       "      <td>38.879090</td>\n",
       "      <td>-77.253206</td>\n",
       "      <td>1.483</td>\n",
       "      <td>On Rt. 6731 (Vaden Dr) in the County of Fairfa...</td>\n",
       "      <td>...</td>\n",
       "      <td>False</td>\n",
       "      <td>False</td>\n",
       "      <td>False</td>\n",
       "      <td>False</td>\n",
       "      <td>False</td>\n",
       "      <td>False</td>\n",
       "      <td>Night</td>\n",
       "      <td>Night</td>\n",
       "      <td>Night</td>\n",
       "      <td>Night</td>\n",
       "    </tr>\n",
       "    <tr>\n",
       "      <th>505581</th>\n",
       "      <td>A-3226009</td>\n",
       "      <td>4</td>\n",
       "      <td>2019-12-17 09:12:52</td>\n",
       "      <td>2020-10-14 07:07:49</td>\n",
       "      <td>33.634089</td>\n",
       "      <td>-112.106196</td>\n",
       "      <td>33.636297</td>\n",
       "      <td>-112.104149</td>\n",
       "      <td>0.193</td>\n",
       "      <td>Closed road from W Grandview Rd / N Garrin Dr ...</td>\n",
       "      <td>...</td>\n",
       "      <td>False</td>\n",
       "      <td>False</td>\n",
       "      <td>True</td>\n",
       "      <td>False</td>\n",
       "      <td>False</td>\n",
       "      <td>False</td>\n",
       "      <td>Day</td>\n",
       "      <td>Day</td>\n",
       "      <td>Day</td>\n",
       "      <td>Day</td>\n",
       "    </tr>\n",
       "    <tr>\n",
       "      <th>596916</th>\n",
       "      <td>A-3318645</td>\n",
       "      <td>4</td>\n",
       "      <td>2019-10-19 04:30:00</td>\n",
       "      <td>2020-11-01 00:00:00</td>\n",
       "      <td>38.875540</td>\n",
       "      <td>-77.280396</td>\n",
       "      <td>38.879090</td>\n",
       "      <td>-77.253206</td>\n",
       "      <td>1.483</td>\n",
       "      <td>On Rt. 6731 (Vaden Dr) in the County of Fairfa...</td>\n",
       "      <td>...</td>\n",
       "      <td>False</td>\n",
       "      <td>False</td>\n",
       "      <td>False</td>\n",
       "      <td>False</td>\n",
       "      <td>False</td>\n",
       "      <td>False</td>\n",
       "      <td>Night</td>\n",
       "      <td>Night</td>\n",
       "      <td>Night</td>\n",
       "      <td>Night</td>\n",
       "    </tr>\n",
       "    <tr>\n",
       "      <th>742421</th>\n",
       "      <td>A-3465684</td>\n",
       "      <td>2</td>\n",
       "      <td>2019-10-15 09:55:21</td>\n",
       "      <td>2020-06-05 10:00:00</td>\n",
       "      <td>45.345250</td>\n",
       "      <td>-118.123440</td>\n",
       "      <td>45.345250</td>\n",
       "      <td>-118.123440</td>\n",
       "      <td>0.000</td>\n",
       "      <td>At US-30/Exit 259 - Accident.</td>\n",
       "      <td>...</td>\n",
       "      <td>False</td>\n",
       "      <td>False</td>\n",
       "      <td>False</td>\n",
       "      <td>False</td>\n",
       "      <td>False</td>\n",
       "      <td>False</td>\n",
       "      <td>Day</td>\n",
       "      <td>Day</td>\n",
       "      <td>Day</td>\n",
       "      <td>Day</td>\n",
       "    </tr>\n",
       "    <tr>\n",
       "      <th>743275</th>\n",
       "      <td>A-3466538</td>\n",
       "      <td>2</td>\n",
       "      <td>2019-10-11 17:31:42</td>\n",
       "      <td>2020-04-30 01:22:43</td>\n",
       "      <td>40.534050</td>\n",
       "      <td>-80.488090</td>\n",
       "      <td>40.534050</td>\n",
       "      <td>-80.488090</td>\n",
       "      <td>0.000</td>\n",
       "      <td>At US-30/Lincoln Hwy - Fuel spillage accident.</td>\n",
       "      <td>...</td>\n",
       "      <td>False</td>\n",
       "      <td>False</td>\n",
       "      <td>False</td>\n",
       "      <td>False</td>\n",
       "      <td>False</td>\n",
       "      <td>False</td>\n",
       "      <td>Day</td>\n",
       "      <td>Day</td>\n",
       "      <td>Day</td>\n",
       "      <td>Day</td>\n",
       "    </tr>\n",
       "  </tbody>\n",
       "</table>\n",
       "<p>5 rows × 47 columns</p>\n",
       "</div>"
      ],
      "text/plain": [
       "               ID  Severity          Start_Time  \\\n",
       "265104  A-2982119         4 2019-10-19 04:30:00   \n",
       "505581  A-3226009         4 2019-12-17 09:12:52   \n",
       "596916  A-3318645         4 2019-10-19 04:30:00   \n",
       "742421  A-3465684         2 2019-10-15 09:55:21   \n",
       "743275  A-3466538         2 2019-10-11 17:31:42   \n",
       "\n",
       "                             End_Time  Start_Lat   Start_Lng    End_Lat  \\\n",
       "265104  2020-11-01 00:00:00.000000000  38.875540  -77.280396  38.879090   \n",
       "505581            2020-10-14 07:07:49  33.634089 -112.106196  33.636297   \n",
       "596916            2020-11-01 00:00:00  38.875540  -77.280396  38.879090   \n",
       "742421            2020-06-05 10:00:00  45.345250 -118.123440  45.345250   \n",
       "743275            2020-04-30 01:22:43  40.534050  -80.488090  40.534050   \n",
       "\n",
       "           End_Lng  Distance(mi)  \\\n",
       "265104  -77.253206         1.483   \n",
       "505581 -112.104149         0.193   \n",
       "596916  -77.253206         1.483   \n",
       "742421 -118.123440         0.000   \n",
       "743275  -80.488090         0.000   \n",
       "\n",
       "                                              Description  ...  Roundabout  \\\n",
       "265104  On Rt. 6731 (Vaden Dr) in the County of Fairfa...  ...       False   \n",
       "505581  Closed road from W Grandview Rd / N Garrin Dr ...  ...       False   \n",
       "596916  On Rt. 6731 (Vaden Dr) in the County of Fairfa...  ...       False   \n",
       "742421                      At US-30/Exit 259 - Accident.  ...       False   \n",
       "743275     At US-30/Lincoln Hwy - Fuel spillage accident.  ...       False   \n",
       "\n",
       "       Station   Stop Traffic_Calming Traffic_Signal Turning_Loop  \\\n",
       "265104   False  False           False          False        False   \n",
       "505581   False   True           False          False        False   \n",
       "596916   False  False           False          False        False   \n",
       "742421   False  False           False          False        False   \n",
       "743275   False  False           False          False        False   \n",
       "\n",
       "       Sunrise_Sunset Civil_Twilight Nautical_Twilight Astronomical_Twilight  \n",
       "265104          Night          Night             Night                 Night  \n",
       "505581            Day            Day               Day                   Day  \n",
       "596916          Night          Night             Night                 Night  \n",
       "742421            Day            Day               Day                   Day  \n",
       "743275            Day            Day               Day                   Day  \n",
       "\n",
       "[5 rows x 47 columns]"
      ]
     },
     "execution_count": 41,
     "metadata": {},
     "output_type": "execute_result"
    }
   ],
   "source": [
    "df_2019 = df[df.Start_Time.dt.year == 2019]\n",
    "df_2019.head()"
   ]
  },
  {
   "cell_type": "markdown",
   "id": "05d152e7",
   "metadata": {},
   "source": [
    "### Start Latitude and Longitude"
   ]
  },
  {
   "cell_type": "code",
   "execution_count": 42,
   "id": "f4b62066",
   "metadata": {},
   "outputs": [
    {
     "data": {
      "text/plain": [
       "0          40.10891\n",
       "1          39.86542\n",
       "2          39.10266\n",
       "3          39.10148\n",
       "4          41.06213\n",
       "             ...   \n",
       "1516059    34.00248\n",
       "1516060    32.76696\n",
       "1516061    33.77545\n",
       "1516062    33.99246\n",
       "1516063    34.13393\n",
       "Name: Start_Lat, Length: 1516064, dtype: float64"
      ]
     },
     "execution_count": 42,
     "metadata": {},
     "output_type": "execute_result"
    }
   ],
   "source": [
    "df.Start_Lat"
   ]
  },
  {
   "cell_type": "code",
   "execution_count": 43,
   "id": "edae87ad",
   "metadata": {},
   "outputs": [
    {
     "data": {
      "text/plain": [
       "0          -83.09286\n",
       "1          -84.06280\n",
       "2          -84.52468\n",
       "3          -84.52341\n",
       "4          -81.53784\n",
       "             ...    \n",
       "1516059   -117.37936\n",
       "1516060   -117.14806\n",
       "1516061   -117.84779\n",
       "1516062   -118.40302\n",
       "1516063   -117.23092\n",
       "Name: Start_Lng, Length: 1516064, dtype: float64"
      ]
     },
     "execution_count": 43,
     "metadata": {},
     "output_type": "execute_result"
    }
   ],
   "source": [
    "df.Start_Lng"
   ]
  },
  {
   "cell_type": "code",
   "execution_count": 44,
   "id": "668259b0",
   "metadata": {},
   "outputs": [],
   "source": [
    "sample_df = df.sample(int(0.1 * len(df)))"
   ]
  },
  {
   "cell_type": "code",
   "execution_count": 45,
   "id": "736a5836",
   "metadata": {},
   "outputs": [
    {
     "data": {
      "text/plain": [
       "<AxesSubplot:xlabel='Start_Lng', ylabel='Start_Lat'>"
      ]
     },
     "execution_count": 45,
     "metadata": {},
     "output_type": "execute_result"
    },
    {
     "data": {
      "image/png": "[encoded data removed]",
      "text/plain": [
       "<Figure size 432x288 with 1 Axes>"
      ]
     },
     "metadata": {},
     "output_type": "display_data"
    }
   ],
   "source": [
    "sns.scatterplot(x=sample_df.Start_Lng, y=sample_df.Start_Lat, size=0.001)"
   ]
  },
  {
   "cell_type": "code",
   "execution_count": 50,
   "id": "8cb8ab3b",
   "metadata": {},
   "outputs": [],
   "source": [
    "import folium"
   ]
  },
  {
   "cell_type": "code",
   "execution_count": 51,
   "id": "bce6409c",
   "metadata": {},
   "outputs": [
    {
     "data": {
      "text/plain": [
       "(40.10891, -83.09286)"
      ]
     },
     "execution_count": 51,
     "metadata": {},
     "output_type": "execute_result"
    }
   ],
   "source": [
    "lat, lon = df.Start_Lat[0], df.Start_Lng[0]\n",
    "lat, lon"
   ]
  },
  {
   "cell_type": "code",
   "execution_count": 52,
   "id": "2ca9ab68",
   "metadata": {},
   "outputs": [
    {
     "name": "stdout",
     "output_type": "stream",
     "text": [
      "149869     35.673617\n",
      "766799     39.025430\n",
      "27255      38.916260\n",
      "1116605    40.821560\n",
      "361052     40.220919\n",
      "             ...    \n",
      "1022230    34.048330\n",
      "713843     25.888864\n",
      "733428     38.406970\n",
      "1038852    38.575250\n",
      "1439759    39.445110\n",
      "Name: Start_Lat, Length: 100, dtype: float64\n",
      "149869     -81.149463\n",
      "766799     -76.692100\n",
      "27255      -94.767660\n",
      "1116605    -98.369430\n",
      "361052     -76.855653\n",
      "              ...    \n",
      "1022230   -117.306680\n",
      "713843     -80.218905\n",
      "733428    -122.204210\n",
      "1038852   -121.557210\n",
      "1439759    -75.062550\n",
      "Name: Start_Lng, Length: 100, dtype: float64\n"
     ]
    }
   ],
   "source": [
    "for x in df[['Start_Lat', 'Start_Lng']].sample(100).iteritems():\n",
    "    print(x[1])"
   ]
  },
  {
   "cell_type": "code",
   "execution_count": 53,
   "id": "c25c1a68",
   "metadata": {},
   "outputs": [
    {
     "data": {
      "text/plain": [
       "<zip at 0x7f98fbec8980>"
      ]
     },
     "execution_count": 53,
     "metadata": {},
     "output_type": "execute_result"
    }
   ],
   "source": [
    "zip(list(df.Start_Lat), list(df.Start_Lng))"
   ]
  },
  {
   "cell_type": "code",
   "execution_count": 61,
   "id": "e2dee4a4",
   "metadata": {},
   "outputs": [],
   "source": [
    "from folium.plugins import HeatMap"
   ]
  },
  {
   "cell_type": "code",
   "execution_count": 62,
   "id": "b00e3321",
   "metadata": {},
   "outputs": [],
   "source": [
    "sample_df = df.sample(int(0.001 * len(df)))\n",
    "lat_lon_pairs = list(zip(list(sample_df.Start_Lat), list(sample_df.Start_Lng)))"
   ]
  },
  {
   "cell_type": "code",
   "execution_count": 63,
   "id": "6e18dd69",
   "metadata": {},
   "outputs": [
    {
     "data": {
      "text/html": [
       "<div style=\"width:100%;\"><div style=\"position:relative;width:100%;height:0;padding-bottom:60%;\"><span style=\"color:#565656\">Make this Notebook Trusted to load map: File -> Trust Notebook</span><iframe src=\"about:blank\" style=\"position:absolute;width:100%;height:100%;left:0;top:0;border:none !important;\" data-html=%3C%21DOCTYPE%20html%3E%0A%3Chead%3E%20%20%20%20%0A%20%20%20%20%3Cmeta%20http-equiv%3D%22content-type%22%20content%3D%22text/html%3B%20charset%3DUTF-8%22%20/%3E%0A%20%20%20%20%0A%20%20%20%20%20%20%20%20%3Cscript%3E%0A%20%20%20%20%20%20%20%20%20%20%20%20L_NO_TOUCH%20%3D%20false%3B%0A%20%20%20%20%20%20%20%20%20%20%20%20L_DISABLE_3D%20%3D%20false%3B%0A%20%20%20%20%20%20%20%20%3C/script%3E%0A%20%20%20%20%0A%20%20%20%20%3Cstyle%3Ehtml%2C%20body%20%7Bwidth%3A%20100%25%3Bheight%3A%20100%25%3Bmargin%3A%200%3Bpadding%3A%200%3B%7D%3C/style%3E%0A%20%20%20%20%3Cstyle%3E%23map%20%7Bposition%3Aabsolute%3Btop%3A0%3Bbottom%3A0%3Bright%3A0%3Bleft%3A0%3B%7D%3C/style%3E%0A%20%20%20%20%3Cscript%20src%3D%22https%3A//cdn.jsdelivr.net/npm/leaflet%401.6.0/dist/leaflet.js%22%3E%3C/script%3E%0A%20%20%20%20%3Cscript%20src%3D%22https%3A//code.jquery.com/jquery-1.12.4.min.js%22%3E%3C/script%3E%0A%20%20%20%20%3Cscript%20src%3D%22https%3A//maxcdn.bootstrapcdn.com/bootstrap/3.2.0/js/bootstrap.min.js%22%3E%3C/script%3E%0A%20%20%20%20%3Cscript%20src%3D%22https%3A//cdnjs.cloudflare.com/ajax/libs/Leaflet.awesome-markers/2.0.2/leaflet.awesome-markers.js%22%3E%3C/script%3E%0A%20%20%20%20%3Clink%20rel%3D%22stylesheet%22%20href%3D%22https%3A//cdn.jsdelivr.net/npm/leaflet%401.6.0/dist/leaflet.css%22/%3E%0A%20%20%20%20%3Clink%20rel%3D%22stylesheet%22%20href%3D%22https%3A//maxcdn.bootstrapcdn.com/bootstrap/3.2.0/css/bootstrap.min.css%22/%3E%0A%20%20%20%20%3Clink%20rel%3D%22stylesheet%22%20href%3D%22https%3A//maxcdn.bootstrapcdn.com/bootstrap/3.2.0/css/bootstrap-theme.min.css%22/%3E%0A%20%20%20%20%3Clink%20rel%3D%22stylesheet%22%20href%3D%22https%3A//maxcdn.bootstrapcdn.com/font-awesome/4.6.3/css/font-awesome.min.css%22/%3E%0A%20%20%20%20%3Clink%20rel%3D%22stylesheet%22%20href%3D%22https%3A//cdnjs.cloudflare.com/ajax/libs/Leaflet.awesome-markers/2.0.2/leaflet.awesome-markers.css%22/%3E%0A%20%20%20%20%3Clink%20rel%3D%22stylesheet%22%20href%3D%22https%3A//cdn.jsdelivr.net/gh/python-visualization/folium/folium/templates/leaflet.awesome.rotate.min.css%22/%3E%0A%20%20%20%20%0A%20%20%20%20%20%20%20%20%20%20%20%20%3Cmeta%20name%3D%22viewport%22%20content%3D%22width%3Ddevice-width%2C%0A%20%20%20%20%20%20%20%20%20%20%20%20%20%20%20%20initial-scale%3D1.0%2C%20maximum-scale%3D1.0%2C%20user-scalable%3Dno%22%20/%3E%0A%20%20%20%20%20%20%20%20%20%20%20%20%3Cstyle%3E%0A%20%20%20%20%20%20%20%20%20%20%20%20%20%20%20%20%23map_9704f241ebb34e8bbf1bd690caccf010%20%7B%0A%20%20%20%20%20%20%20%20%20%20%20%20%20%20%20%20%20%20%20%20position%3A%20relative%3B%0A%20%20%20%20%20%20%20%20%20%20%20%20%20%20%20%20%20%20%20%20width%3A%20100.0%25%3B%0A%20%20%20%20%20%20%20%20%20%20%20%20%20%20%20%20%20%20%20%20height%3A%20100.0%25%3B%0A%20%20%20%20%20%20%20%20%20%20%20%20%20%20%20%20%20%20%20%20left%3A%200.0%25%3B%0A%20%20%20%20%20%20%20%20%20%20%20%20%20%20%20%20%20%20%20%20top%3A%200.0%25%3B%0A%20%20%20%20%20%20%20%20%20%20%20%20%20%20%20%20%7D%0A%20%20%20%20%20%20%20%20%20%20%20%20%3C/style%3E%0A%20%20%20%20%20%20%20%20%0A%20%20%20%20%3Cscript%20src%3D%22https%3A//cdn.jsdelivr.net/gh/python-visualization/folium%40master/folium/templates/leaflet_heat.min.js%22%3E%3C/script%3E%0A%3C/head%3E%0A%3Cbody%3E%20%20%20%20%0A%20%20%20%20%0A%20%20%20%20%20%20%20%20%20%20%20%20%3Cdiv%20class%3D%22folium-map%22%20id%3D%22map_9704f241ebb34e8bbf1bd690caccf010%22%20%3E%3C/div%3E%0A%20%20%20%20%20%20%20%20%0A%3C/body%3E%0A%3Cscript%3E%20%20%20%20%0A%20%20%20%20%0A%20%20%20%20%20%20%20%20%20%20%20%20var%20map_9704f241ebb34e8bbf1bd690caccf010%20%3D%20L.map%28%0A%20%20%20%20%20%20%20%20%20%20%20%20%20%20%20%20%22map_9704f241ebb34e8bbf1bd690caccf010%22%2C%0A%20%20%20%20%20%20%20%20%20%20%20%20%20%20%20%20%7B%0A%20%20%20%20%20%20%20%20%20%20%20%20%20%20%20%20%20%20%20%20center%3A%20%5B0%2C%200%5D%2C%0A%20%20%20%20%20%20%20%20%20%20%20%20%20%20%20%20%20%20%20%20crs%3A%20L.CRS.EPSG3857%2C%0A%20%20%20%20%20%20%20%20%20%20%20%20%20%20%20%20%20%20%20%20zoom%3A%201%2C%0A%20%20%20%20%20%20%20%20%20%20%20%20%20%20%20%20%20%20%20%20zoomControl%3A%20true%2C%0A%20%20%20%20%20%20%20%20%20%20%20%20%20%20%20%20%20%20%20%20preferCanvas%3A%20false%2C%0A%20%20%20%20%20%20%20%20%20%20%20%20%20%20%20%20%7D%0A%20%20%20%20%20%20%20%20%20%20%20%20%29%3B%0A%0A%20%20%20%20%20%20%20%20%20%20%20%20%0A%0A%20%20%20%20%20%20%20%20%0A%20%20%20%20%0A%20%20%20%20%20%20%20%20%20%20%20%20var%20tile_layer_18e282c429ff429985d338f12a5cf85d%20%3D%20L.tileLayer%28%0A%20%20%20%20%20%20%20%20%20%20%20%20%20%20%20%20%22https%3A//%7Bs%7D.tile.openstreetmap.org/%7Bz%7D/%7Bx%7D/%7By%7D.png%22%2C%0A%20%20%20%20%20%20%20%20%20%20%20%20%20%20%20%20%7B%22attribution%22%3A%20%22Data%20by%20%5Cu0026copy%3B%20%5Cu003ca%20href%3D%5C%22http%3A//openstreetmap.org%5C%22%5Cu003eOpenStreetMap%5Cu003c/a%5Cu003e%2C%20under%20%5Cu003ca%20href%3D%5C%22http%3A//www.openstreetmap.org/copyright%5C%22%5Cu003eODbL%5Cu003c/a%5Cu003e.%22%2C%20%22detectRetina%22%3A%20false%2C%20%22maxNativeZoom%22%3A%2018%2C%20%22maxZoom%22%3A%2018%2C%20%22minZoom%22%3A%200%2C%20%22noWrap%22%3A%20false%2C%20%22opacity%22%3A%201%2C%20%22subdomains%22%3A%20%22abc%22%2C%20%22tms%22%3A%20false%7D%0A%20%20%20%20%20%20%20%20%20%20%20%20%29.addTo%28map_9704f241ebb34e8bbf1bd690caccf010%29%3B%0A%20%20%20%20%20%20%20%20%0A%20%20%20%20%0A%20%20%20%20%20%20%20%20%20%20%20%20var%20heat_map_b34cc71437d54592b4d0bffada9a3b71%20%3D%20L.heatLayer%28%0A%20%20%20%20%20%20%20%20%20%20%20%20%20%20%20%20%5B%5B37.8986%2C%20-122.07079%5D%2C%20%5B30.245579%2C%20-84.232871%5D%2C%20%5B41.87339%2C%20-71.38517%5D%2C%20%5B34.104722%2C%20-118.253106%5D%2C%20%5B37.334517%2C%20-122.02926%5D%2C%20%5B38.49304%2C%20-85.77156%5D%2C%20%5B38.070383%2C%20-122.227335%5D%2C%20%5B43.171275%2C%20-77.560029%5D%2C%20%5B37.80118%2C%20-122.28202%5D%2C%20%5B38.86745%2C%20-77.063437%5D%2C%20%5B34.13841%2C%20-118.27657%5D%2C%20%5B33.81206%2C%20-84.25097%5D%2C%20%5B38.69606%2C%20-76.8651%5D%2C%20%5B33.519169%2C%20-117.16096%5D%2C%20%5B43.10441%2C%20-87.91816%5D%2C%20%5B42.846788%2C%20-74.021958%5D%2C%20%5B33.93698%2C%20-117.8925%5D%2C%20%5B27.441697%2C%20-82.54668%5D%2C%20%5B37.144279%2C%20-113.25384%5D%2C%20%5B38.68278%2C%20-90.23353%5D%2C%20%5B38.689235%2C%20-122.848789%5D%2C%20%5B33.974133%2C%20-117.23698%5D%2C%20%5B38.847713%2C%20-104.8174%5D%2C%20%5B39.01037%2C%20-84.60928%5D%2C%20%5B41.82988%2C%20-71.41796%5D%2C%20%5B44.409949%2C%20-73.215547%5D%2C%20%5B33.43999%2C%20-111.967324%5D%2C%20%5B29.63796%2C%20-95.5829%5D%2C%20%5B33.15616%2C%20-117.338482%5D%2C%20%5B34.081764%2C%20-117.71001%5D%2C%20%5B45.612931%2C%20-122.055704%5D%2C%20%5B41.84585%2C%20-87.98307%5D%2C%20%5B40.60996%2C%20-74.1506%5D%2C%20%5B26.85135%2C%20-81.20454%5D%2C%20%5B34.07181%2C%20-117.88365%5D%2C%20%5B30.215703%2C%20-84.361283%5D%2C%20%5B34.957415%2C%20-120.558192%5D%2C%20%5B29.599681%2C%20-95.349745%5D%2C%20%5B43.434609%2C%20-124.220577%5D%2C%20%5B42.95561%2C%20-88.04793%5D%2C%20%5B42.97649%2C%20-85.696704%5D%2C%20%5B28.39765%2C%20-81.24945%5D%2C%20%5B39.820235%2C%20-85.837501%5D%2C%20%5B27.48587%2C%20-82.46981%5D%2C%20%5B29.99871%2C%20-90.17717%5D%2C%20%5B45.107958%2C%20-93.301158%5D%2C%20%5B34.486579%2C%20-79.325205%5D%2C%20%5B41.624289%2C%20-124.111422%5D%2C%20%5B30.308642%2C%20-97.728411%5D%2C%20%5B33.62604%2C%20-111.95164%5D%2C%20%5B39.26636%2C%20-77.04244%5D%2C%20%5B33.960016%2C%20-118.283889%5D%2C%20%5B41.23175%2C%20-112.01324%5D%2C%20%5B40.16093%2C%20-75.47929%5D%2C%20%5B37.79466%2C%20-122.20631%5D%2C%20%5B34.315882%2C%20-117.495555%5D%2C%20%5B45.03163%2C%20-93.34715%5D%2C%20%5B34.024883%2C%20-118.238414%5D%2C%20%5B33.46188%2C%20-112.05241%5D%2C%20%5B43.619393%2C%20-116.35858%5D%2C%20%5B33.44766%2C%20-111.85312%5D%2C%20%5B25.953697%2C%20-80.294535%5D%2C%20%5B40.84751%2C%20-111.90726%5D%2C%20%5B28.605271%2C%20-81.421515%5D%2C%20%5B35.339807%2C%20-118.914292%5D%2C%20%5B35.980879%2C%20-78.886781%5D%2C%20%5B37.42063%2C%20-77.63723%5D%2C%20%5B37.551213%2C%20-77.428297%5D%2C%20%5B41.22367%2C%20-96.01405%5D%2C%20%5B25.9423%2C%20-80.18844%5D%2C%20%5B37.408962%2C%20-121.878557%5D%2C%20%5B35.91743%2C%20-78.78885%5D%2C%20%5B33.44349%2C%20-111.89104%5D%2C%20%5B33.71474%2C%20-84.24081%5D%2C%20%5B33.989995%2C%20-117.359597%5D%2C%20%5B41.16375%2C%20-73.37444%5D%2C%20%5B33.646622%2C%20-111.925078%5D%2C%20%5B39.03845%2C%20-94.67954%5D%2C%20%5B37.74116%2C%20-121.58024%5D%2C%20%5B34.340144%2C%20-118.519513%5D%2C%20%5B45.453621%2C%20-122.72156%5D%2C%20%5B33.930881%2C%20-118.368253%5D%2C%20%5B32.838381%2C%20-117.172654%5D%2C%20%5B47.68211%2C%20-122.3199%5D%2C%20%5B35.133463%2C%20-119.472933%5D%2C%20%5B33.129261%2C%20-117.097231%5D%2C%20%5B34.068539%2C%20-118.151282%5D%2C%20%5B30.350108%2C%20-97.657523%5D%2C%20%5B39.013901%2C%20-77.127748%5D%2C%20%5B42.001823%2C%20-87.725968%5D%2C%20%5B44.5863%2C%20-93.82905%5D%2C%20%5B42.66567%2C%20-73.73326%5D%2C%20%5B26.162706%2C%20-80.162247%5D%2C%20%5B39.29036%2C%20-76.61521%5D%2C%20%5B42.351788%2C%20-87.844217%5D%2C%20%5B44.601219%2C%20-92.913833%5D%2C%20%5B39.63611%2C%20-78.94507%5D%2C%20%5B33.988961%2C%20-118.340641%5D%2C%20%5B33.458101%2C%20-80.604753%5D%2C%20%5B41.49767%2C%20-81.60499%5D%2C%20%5B40.64166%2C%20-73.87698%5D%2C%20%5B35.531963%2C%20-78.569165%5D%2C%20%5B43.15714%2C%20-77.6064%5D%2C%20%5B35.43508%2C%20-97.56555%5D%2C%20%5B33.998909%2C%20-117.163432%5D%2C%20%5B38.768024%2C%20-120.819888%5D%2C%20%5B34.148551%2C%20-118.053873%5D%2C%20%5B47.43137%2C%20-122.22024%5D%2C%20%5B43.84823%2C%20-87.94194%5D%2C%20%5B47.65678%2C%20-122.32231%5D%2C%20%5B37.808253%2C%20-122.366974%5D%2C%20%5B35.06528%2C%20-80.84161%5D%2C%20%5B25.862061%2C%20-80.20812%5D%2C%20%5B38.5189%2C%20-121.52199%5D%2C%20%5B33.992379%2C%20-117.978635%5D%2C%20%5B33.77224%2C%20-117.90885%5D%2C%20%5B41.823471%2C%20-87.723412%5D%2C%20%5B39.61716%2C%20-75.64624%5D%2C%20%5B30.507157%2C%20-87.161852%5D%2C%20%5B33.990619%2C%20-117.926457%5D%2C%20%5B40.68714%2C%20-73.71784%5D%2C%20%5B39.928957%2C%20-111.182452%5D%2C%20%5B45.11557%2C%20-123.211858%5D%2C%20%5B33.834908%2C%20-117.835424%5D%2C%20%5B47.73406%2C%20-122.32555%5D%2C%20%5B36.191671%2C%20-86.744895%5D%2C%20%5B29.780057%2C%20-95.34187%5D%2C%20%5B39.01345%2C%20-77.03894%5D%2C%20%5B42.970951%2C%20-85.697575%5D%2C%20%5B34.038213%2C%20-118.219614%5D%2C%20%5B38.560943%2C%20-78.745825%5D%2C%20%5B35.01737%2C%20-85.28368%5D%2C%20%5B39.98255%2C%20-76.72897%5D%2C%20%5B41.880708%2C%20-77.422167%5D%2C%20%5B44.943726%2C%20-93.274591%5D%2C%20%5B25.90354%2C%20-80.21027%5D%2C%20%5B25.97948%2C%20-80.16581%5D%2C%20%5B37.532001%2C%20-122.006489%5D%2C%20%5B38.659566%2C%20-121.53533%5D%2C%20%5B34.532889%2C%20-92.677155%5D%2C%20%5B34.354107%2C%20-117.438041%5D%2C%20%5B30.19698%2C%20-97.74413%5D%2C%20%5B34.50048%2C%20-118.22806%5D%2C%20%5B31.509708%2C%20-106.158933%5D%2C%20%5B37.36372%2C%20-121.8982%5D%2C%20%5B42.63281%2C%20-85.6624%5D%2C%20%5B40.8668%2C%20-74.04258%5D%2C%20%5B41.0321%2C%20-73.72348%5D%2C%20%5B33.77426%2C%20-118.07514%5D%2C%20%5B37.73941%2C%20-121.59046%5D%2C%20%5B30.463657%2C%20-84.291877%5D%2C%20%5B42.626814%2C%20-78.76471%5D%2C%20%5B29.83158%2C%20-95.38293%5D%2C%20%5B42.49639%2C%20-83.52792%5D%2C%20%5B34.470156%2C%20-117.451034%5D%2C%20%5B39.014446%2C%20-77.095051%5D%2C%20%5B33.876588%2C%20-117.659913%5D%2C%20%5B40.77174%2C%20-73.87563%5D%2C%20%5B26.047851%2C%20-80.162551%5D%2C%20%5B41.930039%2C%20-87.919505%5D%2C%20%5B30.697797%2C%20-88.031903%5D%2C%20%5B40.59294%2C%20-111.90219%5D%2C%20%5B42.12933%2C%20-122.63078%5D%2C%20%5B45.68668%2C%20-122.664364%5D%2C%20%5B32.7789%2C%20-96.81147%5D%2C%20%5B25.95712%2C%20-80.20579%5D%2C%20%5B29.77675%2C%20-95.38495%5D%2C%20%5B25.780416%2C%20-80.312021%5D%2C%20%5B34.037507%2C%20-118.17019%5D%2C%20%5B35.545123%2C%20-78.393884%5D%2C%20%5B34.14285%2C%20-118.02048%5D%2C%20%5B43.126597%2C%20-122.132358%5D%2C%20%5B37.14878%2C%20-121.64821%5D%2C%20%5B33.331393%2C%20-80.665215%5D%2C%20%5B35.228007%2C%20-80.892058%5D%2C%20%5B28.44618%2C%20-81.47417%5D%2C%20%5B38.84396%2C%20-122.72314%5D%2C%20%5B28.478871%2C%20-81.449059%5D%2C%20%5B29.808815%2C%20-95.338258%5D%2C%20%5B32.28825%2C%20-90.23149%5D%2C%20%5B34.20519%2C%20-118.47347%5D%2C%20%5B36.55753%2C%20-86.79756%5D%2C%20%5B38.689839%2C%20-121.382801%5D%2C%20%5B34.273556%2C%20-118.58944%5D%2C%20%5B34.762528%2C%20-118.797235%5D%2C%20%5B37.6013%2C%20-92.71253%5D%2C%20%5B41.71706%2C%20-72.28287%5D%2C%20%5B45.51243%2C%20-123.0913%5D%2C%20%5B34.01676%2C%20-118.482679%5D%2C%20%5B35.20167%2C%20-80.76059%5D%2C%20%5B40.11947%2C%20-79.39817%5D%2C%20%5B33.51457%2C%20-112.26904%5D%2C%20%5B40.13565%2C%20-74.98945%5D%2C%20%5B43.935559%2C%20-91.96564%5D%2C%20%5B33.855947%2C%20-118.002616%5D%2C%20%5B36.965893%2C%20-76.291519%5D%2C%20%5B25.780416%2C%20-80.312021%5D%2C%20%5B25.784266%2C%20-80.217712%5D%2C%20%5B34.274522%2C%20-118.53865%5D%2C%20%5B37.51754%2C%20-77.25697%5D%2C%20%5B33.78172%2C%20-84.384%5D%2C%20%5B25.69138%2C%20-80.38895%5D%2C%20%5B33.45003%2C%20-86.74062%5D%2C%20%5B37.754568%2C%20-121.379944%5D%2C%20%5B39.75162%2C%20-74.25241%5D%2C%20%5B40.68239%2C%20-111.7976%5D%2C%20%5B26.7069%2C%20-80.11936%5D%2C%20%5B34.05196%2C%20-118.44944%5D%2C%20%5B39.29975%2C%20-76.53041%5D%2C%20%5B34.156061%2C%20-118.26457%5D%2C%20%5B40.74919%2C%20-74.17785%5D%2C%20%5B29.66098%2C%20-95.55776%5D%2C%20%5B45.416911%2C%20-121.140028%5D%2C%20%5B33.898342%2C%20-118.18735%5D%2C%20%5B34.07213%2C%20-118.096973%5D%2C%20%5B39.585217%2C%20-77.850139%5D%2C%20%5B34.14271%2C%20-118.73596%5D%2C%20%5B38.606847%2C%20-121.431702%5D%2C%20%5B37.543877%2C%20-120.814837%5D%2C%20%5B34.12107%2C%20-117.9032%5D%2C%20%5B34.294225%2C%20-91.528247%5D%2C%20%5B38.121401%2C%20-121.40039%5D%2C%20%5B46.09883%2C%20-94.32938%5D%2C%20%5B37.562126%2C%20-120.957061%5D%2C%20%5B29.93951%2C%20-90.067%5D%2C%20%5B41.75106%2C%20-88.01271%5D%2C%20%5B41.208256%2C%20-111.97934%5D%2C%20%5B38.977271%2C%20-94.54614%5D%2C%20%5B33.076079%2C%20-117.070695%5D%2C%20%5B34.31144%2C%20-86.90325%5D%2C%20%5B39.11088%2C%20-94.58895%5D%2C%20%5B34.032586%2C%20-118.144043%5D%2C%20%5B34.039286%2C%20-118.273892%5D%2C%20%5B32.13406%2C%20-110.93474%5D%2C%20%5B26.07641%2C%20-80.16853%5D%2C%20%5B40.507918%2C%20-111.89132%5D%2C%20%5B37.67452%2C%20-122.112442%5D%2C%20%5B37.819035%2C%20-122.204975%5D%2C%20%5B40.88748%2C%20-73.89437%5D%2C%20%5B32.794598%2C%20-96.777635%5D%2C%20%5B26.67999%2C%20-80.18424%5D%2C%20%5B35.17711%2C%20-90.19464%5D%2C%20%5B38.956006%2C%20-76.823047%5D%2C%20%5B37.901081%2C%20-121.469365%5D%2C%20%5B32.8536%2C%20-117.12173%5D%2C%20%5B45.69392%2C%20-121.32122%5D%2C%20%5B38.942072%2C%20-121.097195%5D%2C%20%5B33.894991%2C%20-117.499291%5D%2C%20%5B29.62293%2C%20-95.38674%5D%2C%20%5B33.973593%2C%20-118.078985%5D%2C%20%5B25.785266%2C%20-80.249923%5D%2C%20%5B47.06333%2C%20-122.76527%5D%2C%20%5B32.74298%2C%20-96.91893%5D%2C%20%5B34.08913%2C%20-118.237527%5D%2C%20%5B39.82354%2C%20-104.96412%5D%2C%20%5B34.378865%2C%20-109.683829%5D%2C%20%5B41.1071%2C%20-73.80112%5D%2C%20%5B33.854123%2C%20-117.954787%5D%2C%20%5B36.02223%2C%20-119.03965%5D%2C%20%5B31.901499%2C%20-106.412289%5D%2C%20%5B35.873759%2C%20-78.568547%5D%2C%20%5B33.49496%2C%20-112.16891%5D%2C%20%5B29.793829%2C%20-95.338889%5D%2C%20%5B29.898101%2C%20-95.420025%5D%2C%20%5B34.040194%2C%20-118.017156%5D%2C%20%5B33.98635%2C%20-118.28025%5D%2C%20%5B38.0143%2C%20-122.26926%5D%2C%20%5B38.60353%2C%20-90.3103%5D%2C%20%5B38.6385%2C%20-90.45534%5D%2C%20%5B41.71448%2C%20-87.64769%5D%2C%20%5B44.89853%2C%20-93.2%5D%2C%20%5B32.66394%2C%20-96.90086%5D%2C%20%5B32.75777%2C%20-83.70932%5D%2C%20%5B43.07657%2C%20-76.21454%5D%2C%20%5B39.26815%2C%20-123.786542%5D%2C%20%5B38.26073%2C%20-122.0606%5D%2C%20%5B24.6598%2C%20-81.276512%5D%2C%20%5B42.422065%2C%20-123.027568%5D%2C%20%5B32.83115%2C%20-96.631311%5D%2C%20%5B34.15512%2C%20-118.27029%5D%2C%20%5B39.603075%2C%20-76.659815%5D%2C%20%5B39.05297%2C%20-77.382044%5D%2C%20%5B44.956165%2C%20-92.958659%5D%2C%20%5B43.321865%2C%20-122.694576%5D%2C%20%5B30.496203%2C%20-91.12949%5D%2C%20%5B37.254188%2C%20-93.26488%5D%2C%20%5B35.289169%2C%20-84.815416%5D%2C%20%5B39.77506%2C%20-104.85718%5D%2C%20%5B47.4293%2C%20-122.27481%5D%2C%20%5B42.36316%2C%20-83.06976%5D%2C%20%5B42.20365%2C%20-85.64491%5D%2C%20%5B42.893357%2C%20-76.045232%5D%2C%20%5B33.871482%2C%20-117.685514%5D%2C%20%5B34.016789%2C%20-118.174583%5D%2C%20%5B38.81737%2C%20-108.296123%5D%2C%20%5B31.782745%2C%20-106.459905%5D%2C%20%5B35.2768%2C%20-80.80864%5D%2C%20%5B34.154616%2C%20-118.272424%5D%2C%20%5B33.002445%2C%20-117.257778%5D%2C%20%5B47.627448%2C%20-122.339869%5D%2C%20%5B45.378346%2C%20-122.066488%5D%2C%20%5B35.39109%2C%20-97.42762%5D%2C%20%5B32.76135%2C%20-96.80839%5D%2C%20%5B45.035651%2C%20-93.343523%5D%2C%20%5B43.61953%2C%20-116.351918%5D%2C%20%5B33.96446%2C%20-117.32559%5D%2C%20%5B34.072601%2C%20-118.058408%5D%2C%20%5B29.69173%2C%20-95.28362%5D%2C%20%5B32.740654%2C%20-97.225014%5D%2C%20%5B35.21174%2C%20-80.85769%5D%2C%20%5B27.95652%2C%20-82.460925%5D%2C%20%5B35.790232%2C%20-78.547522%5D%2C%20%5B33.95686%2C%20-117.30668%5D%2C%20%5B33.44732%2C%20-111.9785%5D%2C%20%5B25.688%2C%20-80.33302%5D%2C%20%5B35.164381%2C%20-80.894779%5D%2C%20%5B39.71418%2C%20-91.42327%5D%2C%20%5B35.314032%2C%20-80.742982%5D%2C%20%5B33.70207%2C%20-117.94982%5D%2C%20%5B33.800301%2C%20-84.397781%5D%2C%20%5B36.04555%2C%20-79.84561%5D%2C%20%5B41.81663%2C%20-87.92565%5D%2C%20%5B36.145905%2C%20-95.94039%5D%2C%20%5B40.23311%2C%20-76.07832%5D%2C%20%5B42.878447%2C%20-78.874894%5D%2C%20%5B36.84132%2C%20-76.04693%5D%2C%20%5B25.868281%2C%20-80.240046%5D%2C%20%5B35.816723%2C%20-78.600858%5D%2C%20%5B33.928892%2C%20-118.291574%5D%2C%20%5B27.535209%2C%20-82.49177%5D%2C%20%5B30.658675%2C%20-87.88893%5D%2C%20%5B29.60426%2C%20-95.20873%5D%2C%20%5B35.66525%2C%20-78.69936%5D%2C%20%5B34.27396%2C%20-118.930469%5D%2C%20%5B33.879293%2C%20-117.545402%5D%2C%20%5B41.803449%2C%20-88.055981%5D%2C%20%5B34.02684%2C%20-118.42992%5D%2C%20%5B44.96603%2C%20-93.265116%5D%2C%20%5B39.27718%2C%20-77.32317%5D%2C%20%5B36.925283%2C%20-121.377937%5D%2C%20%5B39.306453%2C%20-121.595317%5D%2C%20%5B30.462606%2C%20-91.045874%5D%2C%20%5B41.69835%2C%20-87.59477%5D%2C%20%5B26.702066%2C%20-80.07264%5D%2C%20%5B44.853314%2C%20-122.68386%5D%2C%20%5B33.86933%2C%20-117.75079%5D%2C%20%5B33.94095%2C%20-118.09827%5D%2C%20%5B34.01231%2C%20-81.07253%5D%2C%20%5B38.56054%2C%20-121.465367%5D%2C%20%5B41.24428%2C%20-111.97825%5D%2C%20%5B42.892472%2C%20-83.655682%5D%2C%20%5B36.923058%2C%20-119.882339%5D%2C%20%5B35.18421%2C%20-80.80764%5D%2C%20%5B46.78532%2C%20-117.936864%5D%2C%20%5B40.8866%2C%20-73.81583%5D%2C%20%5B33.979908%2C%20-118.370422%5D%2C%20%5B37.88956%2C%20-122.0585%5D%2C%20%5B44.952029%2C%20-93.064408%5D%2C%20%5B41.95322%2C%20-88.04169%5D%2C%20%5B33.93461%2C%20-118.17691%5D%2C%20%5B35.252476%2C%20-118.896263%5D%2C%20%5B32.1632%2C%20-110.99089%5D%2C%20%5B35.125443%2C%20-118.12384%5D%2C%20%5B34.617839%2C%20-82.122276%5D%2C%20%5B39.618111%2C%20-121.686787%5D%2C%20%5B36.788483%2C%20-119.856287%5D%2C%20%5B25.670897%2C%20-80.415666%5D%2C%20%5B39.441906%2C%20-121.551571%5D%2C%20%5B44.45675%2C%20-88.07679%5D%2C%20%5B39.408441%2C%20-76.783586%5D%2C%20%5B32.43911%2C%20-82.67621%5D%2C%20%5B33.88631%2C%20-84.26677%5D%2C%20%5B39.40031%2C%20-119.26866%5D%2C%20%5B36.188197%2C%20-86.821953%5D%2C%20%5B33.491368%2C%20-117.661906%5D%2C%20%5B32.14627%2C%20-81.17796%5D%2C%20%5B41.215568%2C%20-111.978967%5D%2C%20%5B33.64858%2C%20-117.738386%5D%2C%20%5B47.689008%2C%20-122.310043%5D%2C%20%5B41.29849%2C%20-73.93607%5D%2C%20%5B40.869915%2C%20-123.522464%5D%2C%20%5B37.55474%2C%20-79.66138%5D%2C%20%5B30.516789%2C%20-87.215659%5D%2C%20%5B40.898183%2C%20-111.89218%5D%2C%20%5B37.59665%2C%20-77.46622%5D%2C%20%5B36.474506%2C%20-119.851372%5D%2C%20%5B40.802088%2C%20-73.916787%5D%2C%20%5B40.734957%2C%20-74.123241%5D%2C%20%5B42.88215%2C%20-78.88154%5D%2C%20%5B38.816758%2C%20-94.871367%5D%2C%20%5B33.61749%2C%20-112.26811%5D%2C%20%5B30.457039%2C%20-84.366835%5D%2C%20%5B34.067519%2C%20-117.555245%5D%2C%20%5B28.536967%2C%20-81.28566%5D%2C%20%5B40.70904%2C%20-74.00011%5D%2C%20%5B40.84584%2C%20-73.9302%5D%2C%20%5B43.15656%2C%20-77.63887%5D%2C%20%5B34.85611%2C%20-82.45796%5D%2C%20%5B39.01676%2C%20-120.98637%5D%2C%20%5B40.856338%2C%20-73.826294%5D%2C%20%5B40.70241%2C%20-74.24714%5D%2C%20%5B34.129716%2C%20-117.933687%5D%2C%20%5B35.867229%2C%20-78.82351%5D%2C%20%5B42.523805%2C%20-122.81399%5D%2C%20%5B30.438417%2C%20-87.22225%5D%2C%20%5B32.78512%2C%20-96.62458%5D%2C%20%5B38.522325%2C%20-121.521824%5D%2C%20%5B38.57248%2C%20-121.46742%5D%2C%20%5B35.489701%2C%20-97.72469%5D%2C%20%5B37.305336%2C%20-120.774315%5D%2C%20%5B38.207594%2C%20-121.26403%5D%2C%20%5B25.78834%2C%20-80.20831%5D%2C%20%5B36.543689%2C%20-119.286855%5D%2C%20%5B37.586658%2C%20-77.474288%5D%2C%20%5B41.85876%2C%20-87.95808%5D%2C%20%5B29.975391%2C%20-95.564607%5D%2C%20%5B44.951314%2C%20-93.027767%5D%2C%20%5B28.50654%2C%20-82.24398%5D%2C%20%5B38.22488%2C%20-122.1259%5D%2C%20%5B45.53012%2C%20-122.66523%5D%2C%20%5B33.88592%2C%20-84.45786%5D%2C%20%5B39.079418%2C%20-120.156913%5D%2C%20%5B33.825357%2C%20-118.218449%5D%2C%20%5B30.46838%2C%20-97.788571%5D%2C%20%5B41.754%2C%20-87.62518%5D%2C%20%5B33.76621%2C%20-117.93115%5D%2C%20%5B39.8046%2C%20-86.05416%5D%2C%20%5B36.208319%2C%20-79.905672%5D%2C%20%5B43.35221%2C%20-75.725213%5D%2C%20%5B45.72247%2C%20-122.65482%5D%2C%20%5B29.661787%2C%20-95.615175%5D%2C%20%5B39.057285%2C%20-77.452861%5D%2C%20%5B34.134754%2C%20-117.624656%5D%2C%20%5B36.19207%2C%20-86.77625%5D%2C%20%5B37.354235%2C%20-121.866386%5D%2C%20%5B38.340376%2C%20-77.491756%5D%2C%20%5B44.75915%2C%20-93.24793%5D%2C%20%5B34.98948%2C%20-85.20928%5D%2C%20%5B36.153002%2C%20-86.795995%5D%2C%20%5B34.087174%2C%20-117.670696%5D%2C%20%5B33.402628%2C%20-86.770829%5D%2C%20%5B39.72279%2C%20-105.01065%5D%2C%20%5B25.93054%2C%20-80.29336%5D%2C%20%5B41.940549%2C%20-85.65169%5D%2C%20%5B33.716365%2C%20-117.189898%5D%2C%20%5B37.659276%2C%20-77.450343%5D%2C%20%5B30.2201%2C%20-97.62229%5D%2C%20%5B33.86041%2C%20-118.038128%5D%2C%20%5B37.954445%2C%20-121.232275%5D%2C%20%5B35.21368%2C%20-109.33703%5D%2C%20%5B28.577665%2C%20-81.476148%5D%2C%20%5B30.02176%2C%20-90.15408%5D%2C%20%5B25.996214%2C%20-80.1661%5D%2C%20%5B37.29134%2C%20-121.93673%5D%2C%20%5B45.1386%2C%20-93.29066%5D%2C%20%5B32.042652%2C%20-82.073345%5D%2C%20%5B44.481583%2C%20-89.12333%5D%2C%20%5B40.984357%2C%20-77.620908%5D%2C%20%5B33.58805%2C%20-84.38352%5D%2C%20%5B34.14868%2C%20-118.23115%5D%2C%20%5B32.707863%2C%20-96.829842%5D%2C%20%5B32.757119%2C%20-117.222068%5D%2C%20%5B41.87784%2C%20-87.64605%5D%2C%20%5B32.806194%2C%20-117.113608%5D%2C%20%5B39.70759%2C%20-75.59746%5D%2C%20%5B43.01559%2C%20-121.82597%5D%2C%20%5B39.10491%2C%20-84.51059%5D%2C%20%5B34.231412%2C%20-118.267725%5D%2C%20%5B42.322812%2C%20-83.720517%5D%2C%20%5B33.233%2C%20-97.17509%5D%2C%20%5B42.41299%2C%20-83.08331%5D%2C%20%5B33.420941%2C%20-82.055895%5D%2C%20%5B41.390916%2C%20-73.598688%5D%2C%20%5B34.304884%2C%20-119.347583%5D%2C%20%5B37.43176%2C%20-77.446013%5D%2C%20%5B34.09466%2C%20-117.98808%5D%2C%20%5B29.12258%2C%20-98.43124%5D%2C%20%5B40.114855%2C%20-78.561607%5D%2C%20%5B40.76652%2C%20-73.68774%5D%2C%20%5B44.055271%2C%20-121.275405%5D%2C%20%5B34.030393%2C%20-117.619599%5D%2C%20%5B41.11891%2C%20-81.46583%5D%2C%20%5B33.64567%2C%20-117.91491%5D%2C%20%5B44.530201%2C%20-92.52284%5D%2C%20%5B46.378%2C%20-92.78719%5D%2C%20%5B33.864636%2C%20-118.326401%5D%2C%20%5B35.310173%2C%20-80.715123%5D%2C%20%5B42.32198%2C%20-83.74136%5D%2C%20%5B40.78372%2C%20-73.54403%5D%2C%20%5B25.687695%2C%20-80.384231%5D%2C%20%5B35.338329%2C%20-82.437747%5D%2C%20%5B41.829773%2C%20-88.087148%5D%2C%20%5B40.67045%2C%20-73.79332%5D%2C%20%5B37.83498%2C%20-122.00899%5D%2C%20%5B25.627192%2C%20-80.38222%5D%2C%20%5B40.687631%2C%20-73.999764%5D%2C%20%5B33.392242%2C%20-117.196741%5D%2C%20%5B44.849217%2C%20-93.504297%5D%2C%20%5B39.56418%2C%20-104.898405%5D%2C%20%5B39.23818%2C%20-76.7063%5D%2C%20%5B37.91713%2C%20-122.31736%5D%2C%20%5B38.559662%2C%20-78.746448%5D%2C%20%5B35.025659%2C%20-120.496284%5D%2C%20%5B39.680941%2C%20-104.82867%5D%2C%20%5B36.568598%2C%20-121.912659%5D%2C%20%5B40.71201%2C%20-111.80119%5D%2C%20%5B25.871676%2C%20-80.323287%5D%2C%20%5B34.120767%2C%20-117.89014%5D%2C%20%5B34.496715%2C%20-118.272684%5D%2C%20%5B38.964779%2C%20-92.35553%5D%2C%20%5B35.661841%2C%20-78.752312%5D%2C%20%5B27.674762%2C%20-82.348885%5D%2C%20%5B41.93974%2C%20-85.6515%5D%2C%20%5B33.8978%2C%20-117.27513%5D%2C%20%5B40.64302%2C%20-74.25926%5D%2C%20%5B33.70519%2C%20-117.85499%5D%2C%20%5B37.82483%2C%20-122.313559%5D%2C%20%5B32.66538%2C%20-97.34393%5D%2C%20%5B34.07275%2C%20-117.784394%5D%2C%20%5B35.21394%2C%20-80.83093%5D%2C%20%5B35.299193%2C%20-80.745656%5D%2C%20%5B30.428514%2C%20-91.1603%5D%2C%20%5B45.54144%2C%20-122.47785%5D%2C%20%5B37.71122%2C%20-122.16472%5D%2C%20%5B39.6874%2C%20-84.238%5D%2C%20%5B40.70085%2C%20-74.15506%5D%2C%20%5B42.02436%2C%20-87.86538%5D%2C%20%5B27.792164%2C%20-82.333862%5D%2C%20%5B40.90491%2C%20-74.40295%5D%2C%20%5B37.48449%2C%20-122.18407%5D%2C%20%5B40.274547%2C%20-75.291415%5D%2C%20%5B35.946732%2C%20-78.536978%5D%2C%20%5B40.58111%2C%20-105.03267%5D%2C%20%5B26.03921%2C%20-80.16368%5D%2C%20%5B44.72677%2C%20-117.83938%5D%2C%20%5B35.93708%2C%20-86.53509%5D%2C%20%5B35.02049%2C%20-81.89219%5D%2C%20%5B40.85002%2C%20-73.94399%5D%2C%20%5B33.96469%2C%20-118.16889%5D%2C%20%5B33.86123%2C%20-117.877311%5D%2C%20%5B34.135904%2C%20-117.387263%5D%2C%20%5B40.57994%2C%20-75.70498%5D%2C%20%5B33.931285%2C%20-93.257585%5D%2C%20%5B44.95205%2C%20-93.06522%5D%2C%20%5B33.869407%2C%20-117.750331%5D%2C%20%5B33.02636%2C%20-97.27544%5D%2C%20%5B38.494442%2C%20-121.45836%5D%2C%20%5B33.26686%2C%20-91.812921%5D%2C%20%5B33.924696%2C%20-117.977051%5D%2C%20%5B40.25815%2C%20-76.83797%5D%2C%20%5B39.06177%2C%20-121.578992%5D%2C%20%5B34.154365%2C%20-118.287615%5D%2C%20%5B45.640457%2C%20-94.62828%5D%2C%20%5B44.85519%2C%20-93.29819%5D%2C%20%5B33.38639%2C%20-111.7936%5D%2C%20%5B38.619309%2C%20-121.328518%5D%2C%20%5B40.347772%2C%20-120.903156%5D%2C%20%5B38.877253%2C%20-121.159016%5D%2C%20%5B40.610583%2C%20-74.032519%5D%2C%20%5B26.29338%2C%20-81.54529%5D%2C%20%5B37.046102%2C%20-121.276069%5D%2C%20%5B32.74828%2C%20-96.76929%5D%2C%20%5B32.85485%2C%20-97.31282%5D%2C%20%5B33.674189%2C%20-83.98914%5D%2C%20%5B40.52439%2C%20-74.299796%5D%2C%20%5B41.6171%2C%20-72.69576%5D%2C%20%5B40.69903%2C%20-73.50951%5D%2C%20%5B40.594682%2C%20-111.902665%5D%2C%20%5B32.902169%2C%20-117.221995%5D%2C%20%5B40.06562%2C%20-75.31972%5D%2C%20%5B33.774052%2C%20-117.905895%5D%2C%20%5B36.977984%2C%20-121.989259%5D%2C%20%5B36.158365%2C%20-83.233844%5D%2C%20%5B32.13396%2C%20-111.008826%5D%2C%20%5B34.10274%2C%20-118.1975%5D%2C%20%5B36.74498%2C%20-121.740201%5D%2C%20%5B35.51123%2C%20-97.5923%5D%2C%20%5B44.27446%2C%20-118.97604%5D%2C%20%5B34.66286%2C%20-119.37108%5D%2C%20%5B38.92915%2C%20-77.11768%5D%2C%20%5B34.179484%2C%20-118.395326%5D%2C%20%5B33.916196%2C%20-118.226992%5D%2C%20%5B38.458274%2C%20-77.40949%5D%2C%20%5B41.475719%2C%20-122.454091%5D%2C%20%5B28.00449%2C%20-82.33015%5D%2C%20%5B25.565607%2C%20-80.45372%5D%2C%20%5B40.001403%2C%20-77.10528%5D%2C%20%5B37.80378%2C%20-85.74794%5D%2C%20%5B32.86267%2C%20-117.18794%5D%2C%20%5B41.89687%2C%20-87.61689%5D%2C%20%5B43.745995%2C%20-91.892097%5D%2C%20%5B25.762543%2C%20-80.317644%5D%2C%20%5B40.21371%2C%20-76.12644%5D%2C%20%5B32.88442%2C%20-117.1109%5D%2C%20%5B33.45644%2C%20-117.65166%5D%2C%20%5B33.975108%2C%20-118.384369%5D%2C%20%5B41.771396%2C%20-87.62557%5D%2C%20%5B32.648606%2C%20-117.061894%5D%2C%20%5B27.331919%2C%20-82.447045%5D%2C%20%5B28.49831%2C%20-81.42926%5D%2C%20%5B37.018068%2C%20-122.027499%5D%2C%20%5B34.43406%2C%20-118.38923%5D%2C%20%5B36.10152%2C%20-86.76477%5D%2C%20%5B33.94622%2C%20-117.38871%5D%2C%20%5B29.75564%2C%20-95.55819%5D%2C%20%5B35.994324%2C%20-78.52665%5D%2C%20%5B39.63005%2C%20-104.90502%5D%2C%20%5B32.732582%2C%20-97.368563%5D%2C%20%5B41.09099%2C%20-73.65754%5D%2C%20%5B47.825921%2C%20-121.61907%5D%2C%20%5B41.29443%2C%20-72.78476%5D%2C%20%5B41.098748%2C%20-74.037455%5D%2C%20%5B37.70192%2C%20-121.91945%5D%2C%20%5B34.024733%2C%20-117.735811%5D%2C%20%5B33.771269%2C%20-118.261755%5D%2C%20%5B25.637711%2C%20-80.512062%5D%2C%20%5B33.87269%2C%20-118.05933%5D%2C%20%5B38.139968%2C%20-121.623745%5D%2C%20%5B28.02535%2C%20-82.48425%5D%2C%20%5B25.939774%2C%20-80.277409%5D%2C%20%5B34.13556%2C%20-118.000812%5D%2C%20%5B40.933089%2C%20-73.83669%5D%2C%20%5B38.645598%2C%20-122.591557%5D%2C%20%5B29.692737%2C%20-95.347925%5D%2C%20%5B34.153915%2C%20-118.157418%5D%2C%20%5B29.226311%2C%20-81.105483%5D%2C%20%5B45.554517%2C%20-122.900752%5D%2C%20%5B36.764138%2C%20-77.695648%5D%2C%20%5B35.33157%2C%20-80.7233%5D%2C%20%5B40.68714%2C%20-73.71784%5D%2C%20%5B40.008977%2C%20-75.068045%5D%2C%20%5B38.559524%2C%20-121.373107%5D%2C%20%5B38.69424%2C%20-86.91889%5D%2C%20%5B45.277387%2C%20-93.557873%5D%2C%20%5B36.17517%2C%20-86.76698%5D%2C%20%5B35.21779%2C%20-80.83469%5D%2C%20%5B34.13671%2C%20-117.55071%5D%2C%20%5B41.288601%2C%20-72.889129%5D%2C%20%5B39.716123%2C%20-121.521121%5D%2C%20%5B44.926969%2C%20-93.144884%5D%2C%20%5B28.33735%2C%20-81.40385%5D%2C%20%5B43.00168%2C%20-83.69914%5D%2C%20%5B39.543603%2C%20-76.988292%5D%2C%20%5B33.64466%2C%20-117.73497%5D%2C%20%5B25.963943%2C%20-80.165807%5D%2C%20%5B36.109581%2C%20-86.837408%5D%2C%20%5B44.72621%2C%20-94.55697%5D%2C%20%5B28.539005%2C%20-81.47573%5D%2C%20%5B38.85932%2C%20-77.37112%5D%2C%20%5B39.093443%2C%20-121.551672%5D%2C%20%5B43.511709%2C%20-123.31594%5D%2C%20%5B33.774472%2C%20-118.068877%5D%2C%20%5B36.606563%2C%20-78.14911%5D%2C%20%5B37.382933%2C%20-122.070742%5D%2C%20%5B48.607543%2C%20-118.083185%5D%2C%20%5B37.49779%2C%20-77.5233%5D%2C%20%5B27.866607%2C%20-82.786926%5D%2C%20%5B28.156257%2C%20-81.605285%5D%2C%20%5B39.72279%2C%20-105.01065%5D%2C%20%5B36.683163%2C%20-118.96137%5D%2C%20%5B40.13573%2C%20-75.33514%5D%2C%20%5B41.80796%2C%20-87.63222%5D%2C%20%5B28.35743%2C%20-80.661613%5D%2C%20%5B34.01601%2C%20-118.17084%5D%2C%20%5B38.342983%2C%20-122.00676%5D%2C%20%5B38.550856%2C%20-121.422653%5D%2C%20%5B40.593549%2C%20-111.902393%5D%2C%20%5B34.182765%2C%20-118.150864%5D%2C%20%5B40.898162%2C%20-111.395728%5D%2C%20%5B34.77519%2C%20-118.419925%5D%2C%20%5B38.14262%2C%20-122.24904%5D%2C%20%5B38.91334%2C%20-77.009%5D%2C%20%5B34.02673%2C%20-117.567448%5D%2C%20%5B25.7885%2C%20-80.20081%5D%2C%20%5B33.73985%2C%20-117.83121%5D%2C%20%5B30.757415%2C%20-85.331496%5D%2C%20%5B33.93819%2C%20-118.29161%5D%2C%20%5B38.284596%2C%20-76.581293%5D%2C%20%5B38.80252%2C%20-77.10923%5D%2C%20%5B36.988247%2C%20-122.003489%5D%2C%20%5B34.189189%2C%20-118.324424%5D%2C%20%5B45.533847%2C%20-122.580483%5D%2C%20%5B39.860407%2C%20-75.353258%5D%2C%20%5B35.16961%2C%20-80.90472%5D%2C%20%5B34.908939%2C%20-91.196554%5D%2C%20%5B42.96325%2C%20-85.70786%5D%2C%20%5B37.41843%2C%20-122.21421%5D%2C%20%5B43.06961%2C%20-76.09051%5D%2C%20%5B33.840575%2C%20-78.703833%5D%2C%20%5B41.88615%2C%20-87.64631%5D%2C%20%5B39.119343%2C%20-77.203443%5D%2C%20%5B46.70602%2C%20-92.28314%5D%2C%20%5B35.034191%2C%20-85.133278%5D%2C%20%5B37.572373%2C%20-77.456756%5D%2C%20%5B33.87984%2C%20-118.3473%5D%2C%20%5B44.94543%2C%20-122.99015%5D%2C%20%5B41.60816%2C%20-81.48999%5D%2C%20%5B35.314782%2C%20-80.697645%5D%2C%20%5B37.14872%2C%20-77.51961%5D%2C%20%5B25.94812%2C%20-80.351896%5D%2C%20%5B34.222251%2C%20-117.40974%5D%2C%20%5B45.02201%2C%20-93.40088%5D%2C%20%5B34.07801%2C%20-117.62477%5D%2C%20%5B42.568572%2C%20-113.537265%5D%2C%20%5B43.074356%2C%20-78.990916%5D%2C%20%5B43.08769%2C%20-117.06434%5D%2C%20%5B35.2582%2C%20-89.67312%5D%2C%20%5B32.443423%2C%20-93.729666%5D%2C%20%5B45.405546%2C%20-123.81897%5D%2C%20%5B41.66169%2C%20-87.5901%5D%2C%20%5B34.07224%2C%20-117.90754%5D%2C%20%5B40.71772%2C%20-111.95335%5D%2C%20%5B37.251868%2C%20-121.935674%5D%2C%20%5B45.521162%2C%20-122.813134%5D%2C%20%5B38.80041%2C%20-77.11636%5D%2C%20%5B40.805234%2C%20-122.324489%5D%2C%20%5B41.87534%2C%20-87.70106%5D%2C%20%5B34.73852%2C%20-86.60413%5D%2C%20%5B45.33197%2C%20-122.57506%5D%2C%20%5B34.28213%2C%20-118.76565%5D%2C%20%5B39.76032%2C%20-84.18684%5D%2C%20%5B36.733538%2C%20-119.801831%5D%2C%20%5B40.61423%2C%20-73.5527%5D%2C%20%5B33.52529%2C%20-112.17002%5D%2C%20%5B44.39197%2C%20-123.83321%5D%2C%20%5B38.461322%2C%20-77.409388%5D%2C%20%5B38.99286%2C%20-95.6928%5D%2C%20%5B25.455409%2C%20-80.47723%5D%2C%20%5B37.30677%2C%20-121.820021%5D%2C%20%5B33.80523%2C%20-118.28834%5D%2C%20%5B45.67103%2C%20-111.151576%5D%2C%20%5B44.471779%2C%20-93.295433%5D%2C%20%5B33.953274%2C%20-118.230104%5D%2C%20%5B39.02247%2C%20-94.78532%5D%2C%20%5B43.02831%2C%20-88.04728%5D%2C%20%5B34.15448%2C%20-118.273%5D%2C%20%5B31.555665%2C%20-82.966113%5D%2C%20%5B44.795111%2C%20-93.631614%5D%2C%20%5B37.690387%2C%20-122.098588%5D%2C%20%5B42.26592%2C%20-83.25112%5D%2C%20%5B40.85318%2C%20-73.96068%5D%2C%20%5B38.99062%2C%20-94.70035%5D%2C%20%5B34.00726%2C%20-117.41944%5D%2C%20%5B41.78971%2C%20-74.24842%5D%2C%20%5B41.805067%2C%20-88.188473%5D%2C%20%5B41.416096%2C%20-83.15425%5D%2C%20%5B36.713663%2C%20-79.908543%5D%2C%20%5B34.026447%2C%20-117.33326%5D%2C%20%5B34.154858%2C%20-118.310865%5D%2C%20%5B26.033199%2C%20-80.164398%5D%2C%20%5B28.07282%2C%20-81.98715%5D%2C%20%5B40.713426%2C%20-73.97209%5D%2C%20%5B37.184703%2C%20-120.326518%5D%2C%20%5B29.992815%2C%20-90.048869%5D%2C%20%5B40.16148%2C%20-75.1227%5D%2C%20%5B29.45961%2C%20-95.08534%5D%2C%20%5B33.46249%2C%20-112.24957%5D%2C%20%5B37.90716%2C%20-122.31498%5D%2C%20%5B41.84636%2C%20-87.63839%5D%2C%20%5B45.530671%2C%20-122.634796%5D%2C%20%5B34.172117%2C%20-118.46771%5D%2C%20%5B35.22419%2C%20-80.89648%5D%2C%20%5B40.140669%2C%20-76.105919%5D%2C%20%5B39.73167%2C%20-84.2058%5D%2C%20%5B28.400983%2C%20-80.748801%5D%2C%20%5B40.66025%2C%20-75.07067%5D%2C%20%5B33.43756%2C%20-112.10807%5D%2C%20%5B26.264567%2C%20-80.129814%5D%2C%20%5B33.987765%2C%20-118.399247%5D%2C%20%5B37.481263%2C%20-77.516473%5D%2C%20%5B37.96656%2C%20-78.20708%5D%2C%20%5B33.29428%2C%20-117.22193%5D%2C%20%5B43.67008%2C%20-93.28275%5D%2C%20%5B37.246538%2C%20-121.776827%5D%2C%20%5B34.218482%2C%20-119.253702%5D%2C%20%5B37.541559%2C%20-122.285022%5D%2C%20%5B34.079886%2C%20-117.627528%5D%2C%20%5B39.169703%2C%20-78.152564%5D%2C%20%5B25.929745%2C%20-80.125514%5D%2C%20%5B34.2721%2C%20-118.35299%5D%2C%20%5B33.83935%2C%20-118.263543%5D%2C%20%5B40.07205%2C%20-76.32773%5D%2C%20%5B33.89199%2C%20-117.27254%5D%2C%20%5B36.03515%2C%20-86.78306%5D%2C%20%5B38.528183%2C%20-121.51912%5D%2C%20%5B25.81711%2C%20-80.20644%5D%2C%20%5B35.80087%2C%20-78.74134%5D%2C%20%5B39.576917%2C%20-104.791957%5D%2C%20%5B30.45473%2C%20-84.341729%5D%2C%20%5B28.351501%2C%20-82.69904%5D%2C%20%5B25.828278%2C%20-80.206463%5D%2C%20%5B43.860715%2C%20-92.099043%5D%2C%20%5B45.072623%2C%20-122.960363%5D%2C%20%5B41.98398%2C%20-87.8479%5D%2C%20%5B32.25756%2C%20-110.94385%5D%2C%20%5B28.55191%2C%20-81.4916%5D%2C%20%5B34.247879%2C%20-117.266852%5D%2C%20%5B37.71218%2C%20-122.16885%5D%2C%20%5B25.926865%2C%20-80.22162%5D%2C%20%5B38.033432%2C%20-121.951643%5D%2C%20%5B35.375957%2C%20-118.938085%5D%2C%20%5B37.88741%2C%20-121.69648%5D%2C%20%5B37.49744%2C%20-77.50628%5D%2C%20%5B41.038061%2C%20-73.778512%5D%2C%20%5B45.53598%2C%20-122.66773%5D%2C%20%5B38.358562%2C%20-121.973787%5D%2C%20%5B33.92619%2C%20-118.36825%5D%2C%20%5B33.914254%2C%20-81.071879%5D%2C%20%5B26.27754%2C%20-81.74291%5D%2C%20%5B47.19626%2C%20-93.53528%5D%2C%20%5B39.98766%2C%20-105.23704%5D%2C%20%5B44.541325%2C%20-120.3596%5D%2C%20%5B25.900238%2C%20-80.188896%5D%2C%20%5B41.48055%2C%20-88.19714%5D%2C%20%5B45.359748%2C%20-122.614728%5D%2C%20%5B45.033527%2C%20-93.19068%5D%2C%20%5B41.91556%2C%20-88.20933%5D%2C%20%5B45.542604%2C%20-122.510194%5D%2C%20%5B33.241312%2C%20-81.455752%5D%2C%20%5B32.80317%2C%20-83.57191%5D%2C%20%5B44.505594%2C%20-122.873356%5D%2C%20%5B41.121068%2C%20-73.366363%5D%2C%20%5B40.847338%2C%20-73.871455%5D%2C%20%5B32.690216%2C%20-96.832069%5D%2C%20%5B34.17128%2C%20-118.51509%5D%2C%20%5B34.07982%2C%20-117.62692%5D%2C%20%5B37.691153%2C%20-77.546754%5D%2C%20%5B37.42528%2C%20-122.09804%5D%2C%20%5B30.41267%2C%20-84.3091%5D%2C%20%5B41.536543%2C%20-122.235762%5D%2C%20%5B25.80021%2C%20-80.38594%5D%2C%20%5B39.31786%2C%20-85.365498%5D%2C%20%5B33.45633%2C%20-111.67458%5D%2C%20%5B40.67645%2C%20-74.00174%5D%2C%20%5B46.630085%2C%20-94.699927%5D%2C%20%5B35.62352%2C%20-97.53129%5D%2C%20%5B36.53542%2C%20-119.58232%5D%2C%20%5B31.78159%2C%20-106.44138%5D%2C%20%5B39.60622%2C%20-77.74729%5D%2C%20%5B41.42391%2C%20-72.20549%5D%2C%20%5B27.57387%2C%20-82.514373%5D%2C%20%5B41.80928%2C%20-87.62284%5D%2C%20%5B40.80896%2C%20-73.55792%5D%2C%20%5B44.26435%2C%20-95.75641%5D%2C%20%5B41.55085%2C%20-73.05662%5D%2C%20%5B29.58789%2C%20-98.59773%5D%2C%20%5B38.488753%2C%20-121.438871%5D%2C%20%5B38.059633%2C%20-77.505036%5D%2C%20%5B34.11986%2C%20-118.09128%5D%2C%20%5B42.171922%2C%20-121.621619%5D%2C%20%5B45.349917%2C%20-118.198975%5D%2C%20%5B38.759487%2C%20-90.534827%5D%2C%20%5B43.145137%2C%20-83.76365%5D%2C%20%5B45.60188%2C%20-121.1447%5D%2C%20%5B44.07221%2C%20-92.75531%5D%2C%20%5B38.84261%2C%20-76.86494%5D%2C%20%5B42.434553%2C%20-71.102598%5D%2C%20%5B38.737267%2C%20-77.192484%5D%2C%20%5B39.56743%2C%20-107.52046%5D%2C%20%5B34.050965%2C%20-118.957031%5D%2C%20%5B33.94506%2C%20-118.094733%5D%2C%20%5B28.027823%2C%20-82.209023%5D%2C%20%5B34.2682%2C%20-118.47205%5D%2C%20%5B33.997167%2C%20-117.931182%5D%2C%20%5B34.0304%2C%20-117.6238%5D%2C%20%5B34.070293%2C%20-117.207518%5D%2C%20%5B30.47745%2C%20-90.58496%5D%2C%20%5B26.3862%2C%20-80.10544%5D%2C%20%5B40.924919%2C%20-111.891299%5D%2C%20%5B42.06648%2C%20-88.18923%5D%2C%20%5B38.926506%2C%20-121.29344%5D%2C%20%5B42.48218%2C%20-83.441871%5D%2C%20%5B38.77119%2C%20-90.27579%5D%2C%20%5B37.552629%2C%20-122.304577%5D%2C%20%5B33.227131%2C%20-80.605992%5D%2C%20%5B44.94079%2C%20-93.4563%5D%2C%20%5B33.43682%2C%20-112.065%5D%2C%20%5B37.597841%2C%20-121.946908%5D%2C%20%5B29.957624%2C%20-90.067945%5D%2C%20%5B34.29133%2C%20-83.47058%5D%2C%20%5B37.464076%2C%20-77.607711%5D%2C%20%5B41.937686%2C%20-91.669253%5D%2C%20%5B34.09454%2C%20-118.20611%5D%2C%20%5B37.473733%2C%20-122.297047%5D%2C%20%5B28.02465%2C%20-82.04001%5D%2C%20%5B43.05429%2C%20-76.15199%5D%2C%20%5B33.927917%2C%20-118.25428%5D%2C%20%5B38.496342%2C%20-121.329732%5D%2C%20%5B28.205957%2C%20-81.439971%5D%2C%20%5B34.338873%2C%20-118.506377%5D%2C%20%5B32.75519%2C%20-117.2019%5D%2C%20%5B33.875975%2C%20-118.159971%5D%2C%20%5B41.179062%2C%20-73.181079%5D%2C%20%5B37.223749%2C%20-93.2737%5D%2C%20%5B42.430375%2C%20-123.252688%5D%2C%20%5B42.29971%2C%20-71.048%5D%2C%20%5B37.032869%2C%20-122.022606%5D%2C%20%5B41.822989%2C%20-78.374906%5D%2C%20%5B47.35336%2C%20-122.29594%5D%2C%20%5B40.70061%2C%20-73.81543%5D%2C%20%5B32.511666%2C%20-93.743518%5D%2C%20%5B33.233217%2C%20-111.827862%5D%2C%20%5B30.51638%2C%20-97.68792%5D%2C%20%5B38.11021%2C%20-85.68258%5D%2C%20%5B39.95637%2C%20-74.20648%5D%2C%20%5B33.878909%2C%20-118.079773%5D%2C%20%5B34.034058%2C%20-118.265871%5D%2C%20%5B41.70068%2C%20-71.47456%5D%2C%20%5B37.989009%2C%20-122.067178%5D%2C%20%5B45.50618%2C%20-94.23331%5D%2C%20%5B34.07239%2C%20-118.075121%5D%2C%20%5B37.87886%2C%20-122.51507%5D%2C%20%5B42.245768%2C%20-122.773772%5D%2C%20%5B42.35123%2C%20-87.85073%5D%2C%20%5B34.067492%2C%20-117.594426%5D%2C%20%5B25.813127%2C%20-80.195442%5D%2C%20%5B41.527857%2C%20-83.468612%5D%2C%20%5B34.152033%2C%20-118.127945%5D%2C%20%5B34.0741%2C%20-117.29565%5D%2C%20%5B32.991168%2C%20-117.255743%5D%2C%20%5B35.17647%2C%20-80.88607%5D%2C%20%5B37.32104%2C%20-121.89006%5D%2C%20%5B40.671325%2C%20-73.801063%5D%2C%20%5B39.214614%2C%20-78.136922%5D%2C%20%5B39.65882%2C%20-110.86071%5D%2C%20%5B42.432979%2C%20-88.116914%5D%2C%20%5B26.39188%2C%20-80.09628%5D%2C%20%5B40.94052%2C%20-73.83904%5D%2C%20%5B41.75136%2C%20-88.00302%5D%2C%20%5B28.206115%2C%20-82.665205%5D%2C%20%5B38.63198%2C%20-121.50414%5D%2C%20%5B37.761281%2C%20-121.087614%5D%2C%20%5B38.819502%2C%20-77.130543%5D%2C%20%5B37.30351%2C%20-121.87838%5D%2C%20%5B36.962017%2C%20-121.548275%5D%2C%20%5B38.48222%2C%20-122.73677%5D%2C%20%5B33.9965%2C%20-117.92688%5D%2C%20%5B38.63201%2C%20-90.34416%5D%2C%20%5B29.663337%2C%20-95.556383%5D%2C%20%5B42.47172%2C%20-83.11019%5D%2C%20%5B41.749788%2C%20-88.064047%5D%2C%20%5B34.506224%2C%20-118.03024%5D%2C%20%5B30.974594%2C%20-84.612226%5D%2C%20%5B33.93077%2C%20-118.17809%5D%2C%20%5B40.8227%2C%20-74.12556%5D%2C%20%5B34.558408%2C%20-118.677113%5D%2C%20%5B40.20458%2C%20-74.76013%5D%2C%20%5B33.67148%2C%20-84.32587%5D%2C%20%5B34.2671%2C%20-118.443966%5D%2C%20%5B47.608269%2C%20-122.330549%5D%2C%20%5B40.24904%2C%20-75.34605%5D%2C%20%5B40.73851%2C%20-73.90265%5D%2C%20%5B40.211645%2C%20-79.665459%5D%2C%20%5B26.51748%2C%20-81.911325%5D%2C%20%5B41.63655%2C%20-83.49812%5D%2C%20%5B41.054729%2C%20-75.956143%5D%2C%20%5B33.901111%2C%20-117.469326%5D%2C%20%5B40.868351%2C%20-124.129958%5D%2C%20%5B33.94459%2C%20-117.28979%5D%2C%20%5B33.77758%2C%20-84.39076%5D%2C%20%5B37.96906%2C%20-122.05862%5D%2C%20%5B36.156738%2C%20-86.632674%5D%2C%20%5B35.12959%2C%20-80.94182%5D%2C%20%5B42.847677%2C%20-121.832832%5D%2C%20%5B45.69764%2C%20-120.73195%5D%2C%20%5B45.320548%2C%20-84.96595%5D%2C%20%5B37.277869%2C%20-120.443576%5D%2C%20%5B42.686442%2C%20-84.56762%5D%2C%20%5B37.74298%2C%20-121.55992%5D%2C%20%5B39.76941%2C%20-86.26886%5D%2C%20%5B33.98669%2C%20-117.869901%5D%2C%20%5B38.8691%2C%20-77.04758%5D%2C%20%5B34.07584%2C%20-117.62046%5D%2C%20%5B34.16924%2C%20-118.46794%5D%2C%20%5B42.26937%2C%20-83.214%5D%2C%20%5B34.0819%2C%20-117.716%5D%2C%20%5B28.509623%2C%20-81.485951%5D%2C%20%5B30.076304%2C%20-84.425024%5D%2C%20%5B30.342714%2C%20-86.162856%5D%2C%20%5B39.9929%2C%20-75.21762%5D%2C%20%5B29.40719%2C%20-98.5873%5D%2C%20%5B43.36481%2C%20-123.32902%5D%2C%20%5B35.071907%2C%20-85.271832%5D%2C%20%5B40.83808%2C%20-73.88168%5D%2C%20%5B30.35426%2C%20-81.66844%5D%2C%20%5B30.425289%2C%20-91.160783%5D%2C%20%5B34.205226%2C%20-118.988022%5D%2C%20%5B25.761876%2C%20-80.335596%5D%2C%20%5B35.299751%2C%20-118.914356%5D%2C%20%5B40.019816%2C%20-76.557218%5D%2C%20%5B33.841426%2C%20-117.255454%5D%2C%20%5B42.32376%2C%20-71.05525%5D%2C%20%5B44.807964%2C%20-111.097388%5D%2C%20%5B33.892639%2C%20-118.285854%5D%2C%20%5B38.222862%2C%20-85.506259%5D%2C%20%5B41.791105%2C%20-73.125454%5D%2C%20%5B40.78753%2C%20-80.2545%5D%2C%20%5B34.74393%2C%20-81.95439%5D%2C%20%5B33.82818%2C%20-118.082849%5D%2C%20%5B46.611846%2C%20-92.554289%5D%2C%20%5B25.597573%2C%20-80.354562%5D%2C%20%5B34.08197%2C%20-117.71291%5D%2C%20%5B48.021027%2C%20-115.825497%5D%2C%20%5B40.97711%2C%20-76.03427%5D%2C%20%5B40.782787%2C%20-124.151338%5D%2C%20%5B40.454288%2C%20-111.914001%5D%2C%20%5B42.23987%2C%20-87.86217%5D%2C%20%5B33.76591%2C%20-117.941955%5D%2C%20%5B32.88792%2C%20-96.70506%5D%2C%20%5B41.87963%2C%20-71.37799%5D%2C%20%5B36.81071%2C%20-76.19469%5D%2C%20%5B34.878488%2C%20-118.166811%5D%2C%20%5B28.657718%2C%20-81.231762%5D%2C%20%5B33.884622%2C%20-118.352704%5D%2C%20%5B37.565609%2C%20-122.271334%5D%2C%20%5B27.131719%2C%20-82.402683%5D%2C%20%5B37.84587%2C%20-122.24788%5D%2C%20%5B40.161735%2C%20-75.379794%5D%2C%20%5B33.774562%2C%20-118.074336%5D%2C%20%5B35.35943%2C%20-119.03959%5D%2C%20%5B37.74135%2C%20-121.580823%5D%2C%20%5B29.858593%2C%20-81.322827%5D%2C%20%5B41.852972%2C%20-122.570509%5D%2C%20%5B35.898441%2C%20-78.859002%5D%2C%20%5B37.802168%2C%20-79.867868%5D%2C%20%5B38.594016%2C%20-76.045733%5D%2C%20%5B37.58266%2C%20-122.04993%5D%2C%20%5B40.27341%2C%20-111.68458%5D%2C%20%5B38.388013%2C%20-107.423136%5D%2C%20%5B29.964914%2C%20-90.108897%5D%2C%20%5B45.071064%2C%20-123.948348%5D%2C%20%5B36.02445%2C%20-78.94763%5D%2C%20%5B28.01923%2C%20-80.62204%5D%2C%20%5B28.704636%2C%20-81.282055%5D%2C%20%5B33.384636%2C%20-117.251346%5D%2C%20%5B34.03805%2C%20-118.27645%5D%2C%20%5B33.335109%2C%20-111.877937%5D%2C%20%5B41.10515%2C%20-73.99553%5D%2C%20%5B33.972162%2C%20-118.167797%5D%2C%20%5B42.38573%2C%20-83.24903%5D%2C%20%5B48.12321%2C%20-94.51023%5D%2C%20%5B41.97341%2C%20-71.2953%5D%2C%20%5B32.732212%2C%20-86.539888%5D%2C%20%5B44.88494%2C%20-93.00416%5D%2C%20%5B32.942348%2C%20-96.903581%5D%2C%20%5B43.033176%2C%20-83.635406%5D%2C%20%5B43.38369%2C%20-70.54447%5D%2C%20%5B42.28034%2C%20-71.04635%5D%2C%20%5B34.02006%2C%20-118.19021%5D%2C%20%5B41.518095%2C%20-73.977845%5D%2C%20%5B37.711059%2C%20-120.822189%5D%2C%20%5B38.481705%2C%20-121.370978%5D%2C%20%5B29.996139%2C%20-90.127228%5D%2C%20%5B42.96252%2C%20-71.47611%5D%2C%20%5B37.475524%2C%20-120.853533%5D%2C%20%5B43.548253%2C%20-89.480883%5D%2C%20%5B40.619588%2C%20-74.023294%5D%2C%20%5B32.10091%2C%20-110.80144%5D%2C%20%5B35.135387%2C%20-106.713372%5D%2C%20%5B38.080101%2C%20-121.730341%5D%2C%20%5B32.714334%2C%20-117.147763%5D%2C%20%5B27.79579%2C%20-82.66164%5D%2C%20%5B25.705616%2C%20-80.285403%5D%2C%20%5B40.10728%2C%20-83.03594%5D%2C%20%5B32.71782%2C%20-117.01485%5D%2C%20%5B38.61393%2C%20-90.22478%5D%2C%20%5B34.02513%2C%20-117.73146%5D%2C%20%5B42.03912%2C%20-87.86553%5D%2C%20%5B34.006891%2C%20-117.417845%5D%2C%20%5B38.069722%2C%20-122.226905%5D%2C%20%5B37.978721%2C%20-121.261545%5D%2C%20%5B34.03495%2C%20-117.97427%5D%2C%20%5B40.71826%2C%20-111.87391%5D%2C%20%5B36.677931%2C%20-119.790764%5D%2C%20%5B34.310442%2C%20-118.432134%5D%2C%20%5B45.24736%2C%20-93.02597%5D%2C%20%5B26.18247%2C%20-80.15279%5D%2C%20%5B29.79%2C%20-95.3719%5D%2C%20%5B34.02459%2C%20-117.7403%5D%2C%20%5B44.058254%2C%20-121.307206%5D%2C%20%5B33.950622%2C%20-118.103008%5D%2C%20%5B40.602499%2C%20-111.904528%5D%2C%20%5B44.676233%2C%20-123.877415%5D%2C%20%5B33.18595%2C%20-117.371232%5D%2C%20%5B30.485536%2C%20-91.128094%5D%2C%20%5B33.974648%2C%20-118.284642%5D%2C%20%5B39.140971%2C%20-77.61623%5D%2C%20%5B40.63015%2C%20-75.47214%5D%2C%20%5B38.452648%2C%20-121.371612%5D%2C%20%5B48.09616%2C%20-114.23789%5D%2C%20%5B42.96612%2C%20-88.0386%5D%2C%20%5B35.20604%2C%20-80.92228%5D%2C%20%5B39.954625%2C%20-74.9875%5D%2C%20%5B38.701894%2C%20-77.581695%5D%2C%20%5B25.749912%2C%20-80.33583%5D%2C%20%5B41.77417%2C%20-87.90709%5D%2C%20%5B39.264081%2C%20-76.589395%5D%2C%20%5B44.859733%2C%20-92.996413%5D%2C%20%5B44.17044%2C%20-93.94873%5D%2C%20%5B37.303502%2C%20-122.03538%5D%2C%20%5B45.266799%2C%20-122.303915%5D%2C%20%5B28.143413%2C%20-81.469578%5D%2C%20%5B35.660805%2C%20-80.481781%5D%2C%20%5B42.344537%2C%20-83.044935%5D%2C%20%5B35.816352%2C%20-78.659762%5D%2C%20%5B30.178121%2C%20-81.741858%5D%2C%20%5B35.34219%2C%20-80.7395%5D%2C%20%5B43.75091%2C%20-87.838637%5D%2C%20%5B33.94561%2C%20-118.26518%5D%2C%20%5B43.141543%2C%20-77.62039%5D%2C%20%5B33.71134%2C%20-84.21434%5D%2C%20%5B39.05776%2C%20-76.527873%5D%2C%20%5B41.609247%2C%20-93.77699%5D%2C%20%5B43.88605%2C%20-123.022411%5D%2C%20%5B40.749934%2C%20-73.728006%5D%2C%20%5B29.156067%2C%20-82.131579%5D%2C%20%5B40.09184%2C%20-111.69659%5D%2C%20%5B35.97721%2C%20-83.97939%5D%2C%20%5B35.17417%2C%20-89.83648%5D%2C%20%5B42.051011%2C%20-87.8348%5D%2C%20%5B37.634401%2C%20-122.414408%5D%2C%20%5B40.55172%2C%20-111.89639%5D%2C%20%5B40.19957%2C%20-74.12035%5D%2C%20%5B34.153752%2C%20-118.37584%5D%2C%20%5B36.124846%2C%20-121.025479%5D%2C%20%5B33.91098%2C%20-117.88374%5D%2C%20%5B41.68066%2C%20-72.65336%5D%2C%20%5B42.25196%2C%20-83.30088%5D%2C%20%5B41.947635%2C%20-87.737857%5D%2C%20%5B33.831485%2C%20-84.33673%5D%2C%20%5B42.46559%2C%20-87.96384%5D%2C%20%5B40.156674%2C%20-75.142689%5D%2C%20%5B25.96772%2C%20-80.328265%5D%2C%20%5B30.401455%2C%20-97.674604%5D%2C%20%5B37.85475%2C%20-122.21888%5D%2C%20%5B33.33059%2C%20-86.779874%5D%2C%20%5B38.660848%2C%20-121.350513%5D%2C%20%5B37.45391%2C%20-120.801928%5D%2C%20%5B41.452437%2C%20-112.055678%5D%2C%20%5B27.450982%2C%20-82.530487%5D%2C%20%5B35.00011%2C%20-85.09552%5D%2C%20%5B30.264683%2C%20-97.597678%5D%2C%20%5B33.628392%2C%20-117.72041%5D%2C%20%5B45.167122%2C%20-121.113247%5D%2C%20%5B42.640925%2C%20-95.178069%5D%2C%20%5B44.95094%2C%20-93.10525%5D%2C%20%5B41.769365%2C%20-72.661267%5D%2C%20%5B29.983252%2C%20-90.054223%5D%2C%20%5B37.78804%2C%20-122.18122%5D%2C%20%5B36.008881%2C%20-104.710747%5D%2C%20%5B34.067348%2C%20-117.430726%5D%2C%20%5B32.830351%2C%20-97.205803%5D%2C%20%5B40.78062%2C%20-73.63621%5D%2C%20%5B42.877059%2C%20-74.345227%5D%2C%20%5B34.0186%2C%20-117.5103%5D%2C%20%5B27.38327%2C%20-82.44711%5D%2C%20%5B37.926421%2C%20-122.05746%5D%2C%20%5B34.156661%2C%20-118.413771%5D%2C%20%5B38.55871%2C%20-121.47342%5D%2C%20%5B27.89128%2C%20-82.64715%5D%2C%20%5B35.97767%2C%20-78.57743%5D%2C%20%5B40.006678%2C%20-75.192907%5D%2C%20%5B38.640946%2C%20-121.474368%5D%2C%20%5B30.458229%2C%20-91.062357%5D%2C%20%5B37.364079%2C%20-121.901909%5D%2C%20%5B37.040029%2C%20-76.39443%5D%2C%20%5B38.656787%2C%20-77.279187%5D%2C%20%5B33.63893%2C%20-112.1691%5D%2C%20%5B27.462435%2C%20-82.610189%5D%2C%20%5B41.75773%2C%20-87.88269%5D%2C%20%5B33.84514%2C%20-117.824854%5D%2C%20%5B34.119921%2C%20-86.395569%5D%2C%20%5B32.72185%2C%20-117.14957%5D%2C%20%5B45.196993%2C%20-93.55726%5D%2C%20%5B47.70305%2C%20-122.3298%5D%2C%20%5B34.066714%2C%20-117.802931%5D%2C%20%5B39.900221%2C%20-104.988178%5D%2C%20%5B42.85409%2C%20-78.79099%5D%2C%20%5B25.67973%2C%20-80.38875%5D%2C%20%5B32.83403%2C%20-97.36931%5D%2C%20%5B42.99743%2C%20-78.423467%5D%2C%20%5B28.355773%2C%20-80.754948%5D%2C%20%5B33.854688%2C%20-117.790265%5D%2C%20%5B40.096744%2C%20-75.29737%5D%2C%20%5B45.57606%2C%20-122.72889%5D%2C%20%5B33.5024%2C%20-117.6586%5D%2C%20%5B33.840111%2C%20-117.249923%5D%2C%20%5B27.53516%2C%20-82.510017%5D%2C%20%5B40.984898%2C%20-73.686569%5D%2C%20%5B39.11947%2C%20-94.68061%5D%2C%20%5B29.78584%2C%20-95.768155%5D%2C%20%5B37.711039%2C%20-120.957059%5D%2C%20%5B35.407579%2C%20-118.859633%5D%2C%20%5B41.75113%2C%20-71.44088%5D%2C%20%5B38.53752%2C%20-121.73848%5D%2C%20%5B42.429508%2C%20-123.251399%5D%2C%20%5B39.5114%2C%20-106.14452%5D%2C%20%5B33.16994%2C%20-87.55285%5D%2C%20%5B38.59357%2C%20-121.28332%5D%2C%20%5B38.22317%2C%20-122.61118%5D%2C%20%5B29.516526%2C%20-98.527967%5D%2C%20%5B40.83528%2C%20-73.86706%5D%2C%20%5B40.849517%2C%20-73.942247%5D%2C%20%5B33.592137%2C%20-117.241858%5D%2C%20%5B33.84476%2C%20-117.82882%5D%2C%20%5B36.09982%2C%20-80.24603%5D%2C%20%5B33.193956%2C%20-87.244459%5D%2C%20%5B29.737595%2C%20-95.510205%5D%2C%20%5B33.549215%2C%20-117.181537%5D%2C%20%5B34.022024%2C%20-117.337086%5D%2C%20%5B42.224264%2C%20-83.646111%5D%2C%20%5B42.669566%2C%20-84.739415%5D%2C%20%5B45.857367%2C%20-123.176488%5D%2C%20%5B32.83396%2C%20-117.11928%5D%2C%20%5B34.12769%2C%20-118.073203%5D%2C%20%5B43.54531%2C%20-116.81229%5D%2C%20%5B27.583593%2C%20-82.597996%5D%2C%20%5B34.18909%2C%20-80.68718%5D%2C%20%5B36.114281%2C%20-119.567974%5D%2C%20%5B42.29693%2C%20-83.18586%5D%2C%20%5B34.066724%2C%20-117.243667%5D%2C%20%5B42.95482%2C%20-76.98684%5D%2C%20%5B27.825869%2C%20-82.665821%5D%2C%20%5B33.3857%2C%20-111.93489%5D%2C%20%5B46.20852%2C%20-95.05413%5D%2C%20%5B28.12413%2C%20-80.705813%5D%2C%20%5B34.15453%2C%20-118.157604%5D%2C%20%5B47.58031%2C%20-122.18214%5D%2C%20%5B39.77959%2C%20-104.98268%5D%2C%20%5B38.554494%2C%20-121.406411%5D%2C%20%5B41.34266%2C%20-76.58613%5D%2C%20%5B25.596881%2C%20-80.354884%5D%2C%20%5B33.87628%2C%20-118.129082%5D%2C%20%5B30.249386%2C%20-97.862815%5D%2C%20%5B45.58061%2C%20-122.54388%5D%2C%20%5B37.320882%2C%20-121.995495%5D%2C%20%5B34.242571%2C%20-117.433108%5D%2C%20%5B34.58046%2C%20-112.3562%5D%2C%20%5B34.030197%2C%20-81.101106%5D%2C%20%5B35.667883%2C%20-88.908874%5D%2C%20%5B41.583689%2C%20-78.94282%5D%2C%20%5B37.433818%2C%20-121.919232%5D%2C%20%5B33.80179%2C%20-84.40326%5D%2C%20%5B38.10097%2C%20-122.561529%5D%2C%20%5B33.52368%2C%20-117.163556%5D%2C%20%5B39.871403%2C%20-74.92183%5D%2C%20%5B34.03061%2C%20-117.62383%5D%2C%20%5B37.178667%2C%20-76.553496%5D%2C%20%5B33.519548%2C%20-112.044092%5D%2C%20%5B42.40635%2C%20-83.16209%5D%2C%20%5B39.098204%2C%20-77.533401%5D%2C%20%5B40.712281%2C%20-111.802002%5D%2C%20%5B47.6454%2C%20-122.32303%5D%2C%20%5B32.88421%2C%20-96.69716%5D%2C%20%5B33.78821%2C%20-84.39149%5D%2C%20%5B33.57438%2C%20-84.56642%5D%2C%20%5B33.197605%2C%20-87.531407%5D%2C%20%5B34.15458%2C%20-118.3221%5D%2C%20%5B32.67569%2C%20-97.01126%5D%2C%20%5B34.03025%2C%20-118.03243%5D%2C%20%5B34.01375%2C%20-117.5501%5D%2C%20%5B41.020427%2C%20-73.623923%5D%2C%20%5B27.024961%2C%20-82.05108%5D%2C%20%5B37.758668%2C%20-122.212405%5D%2C%20%5B34.134382%2C%20-117.957586%5D%2C%20%5B34.492122%2C%20-118.283786%5D%2C%20%5B32.92443%2C%20-96.77559%5D%2C%20%5B42.41799%2C%20-83.42428%5D%2C%20%5B40.54533%2C%20-111.89577%5D%2C%20%5B45.53025%2C%20-122.637367%5D%2C%20%5B40.05493%2C%20-75.10274%5D%2C%20%5B33.256763%2C%20-117.154588%5D%2C%20%5B36.641716%2C%20-119.708978%5D%2C%20%5B33.987602%2C%20-118.137419%5D%2C%20%5B25.847046%2C%20-80.209093%5D%2C%20%5B41.87007%2C%20-71.05601%5D%2C%20%5B40.189877%2C%20-74.688067%5D%2C%20%5B43.179521%2C%20-83.660038%5D%2C%20%5B47.860619%2C%20-117.42195%5D%2C%20%5B30.594755%2C%20-84.723546%5D%2C%20%5B33.875469%2C%20-118.063833%5D%2C%20%5B33.2671%2C%20-84.213673%5D%2C%20%5B43.00141%2C%20-83.69984%5D%2C%20%5B34.052471%2C%20-117.548381%5D%2C%20%5B42.68482%2C%20-82.99519%5D%2C%20%5B45.29178%2C%20-94.9387%5D%2C%20%5B45.77804%2C%20-123.423559%5D%2C%20%5B40.84738%2C%20-73.92542%5D%2C%20%5B34.13085%2C%20-117.92904%5D%2C%20%5B41.87124%2C%20-87.83788%5D%2C%20%5B35.19439%2C%20-80.8732%5D%2C%20%5B25.44246%2C%20-80.474991%5D%2C%20%5B30.335247%2C%20-97.748752%5D%2C%20%5B34.131764%2C%20-117.681738%5D%2C%20%5B39.86072%2C%20-75.06932%5D%2C%20%5B29.51615%2C%20-98.43397%5D%2C%20%5B33.876543%2C%20-118.077256%5D%2C%20%5B40.140084%2C%20-75.488051%5D%2C%20%5B39.74352%2C%20-111.83179%5D%2C%20%5B28.741656%2C%20-81.334306%5D%2C%20%5B34.23701%2C%20-118.420732%5D%2C%20%5B45.51465%2C%20-122.66725%5D%2C%20%5B34.32057%2C%20-118.4958%5D%2C%20%5B29.726353%2C%20-95.460194%5D%2C%20%5B28.13862%2C%20-80.58147%5D%2C%20%5B38.57713%2C%20-77.32564%5D%2C%20%5B36.832085%2C%20-119.970188%5D%2C%20%5B25.970832%2C%20-80.292903%5D%2C%20%5B45.533674%2C%20-122.62515%5D%2C%20%5B38.251231%2C%20-122.475908%5D%2C%20%5B35.83092%2C%20-78.35382%5D%2C%20%5B36.1472%2C%20-86.74367%5D%2C%20%5B34.03474%2C%20-118.34277%5D%2C%20%5B30.137623%2C%20-81.705323%5D%2C%20%5B38.67813%2C%20-121.20234%5D%2C%20%5B34.404072%2C%20-118.574631%5D%2C%20%5B38.384867%2C%20-122.716094%5D%2C%20%5B38.519655%2C%20-121.465173%5D%2C%20%5B47.74095%2C%20-122.18697%5D%2C%20%5B38.671064%2C%20-121.591335%5D%2C%20%5B36.854179%2C%20-97.345058%5D%2C%20%5B36.09213%2C%20-80.26894%5D%2C%20%5B37.690907%2C%20-122.078062%5D%2C%20%5B41.790908%2C%20-87.63089%5D%2C%20%5B33.790411%2C%20-118.099358%5D%2C%20%5B25.770373%2C%20-80.336498%5D%2C%20%5B43.03154%2C%20-76.05338%5D%2C%20%5B42.28299%2C%20-87.95335%5D%2C%20%5B40.83393%2C%20-111.92856%5D%2C%20%5B37.06672%2C%20-97.33833%5D%2C%20%5B42.942989%2C%20-78.766494%5D%2C%20%5B39.650352%2C%20-77.780723%5D%2C%20%5B25.484583%2C%20-80.460921%5D%2C%20%5B29.425595%2C%20-95.055635%5D%2C%20%5B27.919618%2C%20-82.60996%5D%2C%20%5B44.97482%2C%20-93.20225%5D%2C%20%5B33.92141%2C%20-118.08277%5D%2C%20%5B35.40531%2C%20-80.69581%5D%2C%20%5B37.421143%2C%20-122.092497%5D%2C%20%5B33.66948%2C%20-81.62745%5D%2C%20%5B34.267191%2C%20-116.852309%5D%2C%20%5B43.025331%2C%20-85.66584%5D%2C%20%5B38.458723%2C%20-122.422745%5D%2C%20%5B33.66793%2C%20-84.340488%5D%2C%20%5B31.77139%2C%20-106.3773%5D%2C%20%5B36.165415%2C%20-86.79432%5D%2C%20%5B33.451009%2C%20-86.74199%5D%2C%20%5B33.557167%2C%20-117.18072%5D%2C%20%5B38.43969%2C%20-121.40249%5D%2C%20%5B39.088731%2C%20-94.571075%5D%2C%20%5B29.99282%2C%20-90.04883%5D%2C%20%5B38.64215%2C%20-121.16203%5D%2C%20%5B34.412859%2C%20-82.049793%5D%2C%20%5B26.166311%2C%20-80.160015%5D%2C%20%5B40.987658%2C%20-121.625896%5D%2C%20%5B45.694137%2C%20-121.793968%5D%2C%20%5B32.17783%2C%20-110.96829%5D%2C%20%5B36.946542%2C%20-76.404465%5D%2C%20%5B33.822927%2C%20-118.290325%5D%2C%20%5B37.5039%2C%20-77.34955%5D%2C%20%5B30.405431%2C%20-91.123523%5D%2C%20%5B33.649642%2C%20-117.1713%5D%2C%20%5B35.739471%2C%20-78.568745%5D%2C%20%5B41.56731%2C%20-87.32988%5D%2C%20%5B39.72177%2C%20-105.00899%5D%2C%20%5B38.88589%2C%20-97.11201%5D%2C%20%5B37.65409%2C%20-77.4356%5D%2C%20%5B39.06779%2C%20-76.95951%5D%2C%20%5B38.31734%2C%20-85.5761%5D%2C%20%5B44.34716%2C%20-123.7072%5D%2C%20%5B39.29876%2C%20-76.61136%5D%2C%20%5B36.30561%2C%20-86.70688%5D%2C%20%5B44.1856%2C%20-117.13696%5D%2C%20%5B32.77921%2C%20-117.070104%5D%2C%20%5B37.61783%2C%20-122.15327%5D%2C%20%5B41.86092%2C%20-87.96127%5D%2C%20%5B34.333537%2C%20-117.482459%5D%2C%20%5B34.018602%2C%20-117.476097%5D%2C%20%5B33.39335%2C%20-111.65013%5D%2C%20%5B33.53142%2C%20-111.92558%5D%2C%20%5B34.001854%2C%20-117.834566%5D%2C%20%5B39.780251%2C%20-76.178812%5D%2C%20%5B36.79607%2C%20-76.38458%5D%2C%20%5B34.223581%2C%20-119.152811%5D%2C%20%5B34.365011%2C%20-118.503466%5D%2C%20%5B34.149468%2C%20-117.480403%5D%2C%20%5B34.975949%2C%20-82.013965%5D%2C%20%5B38.797757%2C%20-77.446734%5D%2C%20%5B34.067186%2C%20-117.982143%5D%2C%20%5B29.70423%2C%20-95.27579%5D%2C%20%5B37.634622%2C%20-122.104209%5D%2C%20%5B33.677097%2C%20-117.88183%5D%2C%20%5B41.935652%2C%20-79.595227%5D%2C%20%5B37.686686%2C%20-122.11686%5D%2C%20%5B38.1016%2C%20-121.258627%5D%2C%20%5B34.031831%2C%20-117.550055%5D%2C%20%5B34.579742%2C%20-82.914252%5D%2C%20%5B38.58108%2C%20-121.3039%5D%2C%20%5B32.769585%2C%20-96.777518%5D%2C%20%5B33.96316%2C%20-118.28106%5D%2C%20%5B33.83498%2C%20-117.8356%5D%2C%20%5B41.76168%2C%20-87.867441%5D%2C%20%5B32.645533%2C%20-96.751228%5D%2C%20%5B44.052712%2C%20-123.327344%5D%2C%20%5B26.59151%2C%20-81.69165%5D%2C%20%5B37.772948%2C%20-122.40655%5D%2C%20%5B34.7061%2C%20-82.67663%5D%2C%20%5B35.06255%2C%20-106.63868%5D%2C%20%5B30.337242%2C%20-81.669167%5D%2C%20%5B34.1607%2C%20-118.38095%5D%2C%20%5B26.671618%2C%20-80.070065%5D%2C%20%5B32.264302%2C%20-86.356905%5D%2C%20%5B36.965891%2C%20-76.290507%5D%2C%20%5B33.98847%2C%20-84.54675%5D%2C%20%5B46.9714%2C%20-120.41909%5D%2C%20%5B35.500041%2C%20-97.850582%5D%2C%20%5B39.74759%2C%20-84.17222%5D%2C%20%5B25.864138%2C%20-80.234274%5D%2C%20%5B40.61715%2C%20-75.50359%5D%2C%20%5B40.10484%2C%20-82.98162%5D%2C%20%5B27.914647%2C%20-82.348463%5D%2C%20%5B47.81839%2C%20-116.78766%5D%2C%20%5B45.50868%2C%20-122.736675%5D%2C%20%5B36.01833%2C%20-84.0516%5D%2C%20%5B35.227193%2C%20-80.84307%5D%2C%20%5B41.78557%2C%20-86.137596%5D%2C%20%5B28.597382%2C%20-81.244578%5D%2C%20%5B45.53482%2C%20-122.66675%5D%2C%20%5B39.8526%2C%20-74.18192%5D%2C%20%5B39.57582%2C%20-79.97556%5D%2C%20%5B32.839207%2C%20-117.145402%5D%2C%20%5B35.912484%2C%20-78.782096%5D%2C%20%5B34.0723%2C%20-118.05544%5D%2C%20%5B34.003773%2C%20-118.280919%5D%2C%20%5B34.199548%2C%20-118.338664%5D%2C%20%5B25.657226%2C%20-80.387832%5D%2C%20%5B34.062675%2C%20-84.421671%5D%2C%20%5B29.72991%2C%20-95.44733%5D%2C%20%5B25.963024%2C%20-80.155081%5D%2C%20%5B33.771994%2C%20-85.171043%5D%2C%20%5B44.97726%2C%20-122.99123%5D%2C%20%5B33.82663%2C%20-118.21094%5D%2C%20%5B40.701666%2C%20-111.952684%5D%2C%20%5B39.86816%2C%20-75.33935%5D%2C%20%5B35.33244%2C%20-80.80894%5D%2C%20%5B36.758509%2C%20-76.344861%5D%2C%20%5B41.47543%2C%20-81.69917%5D%2C%20%5B40.48082%2C%20-111.90159%5D%2C%20%5B44.86876%2C%20-93.08444%5D%2C%20%5B34.09662%2C%20-118.477173%5D%2C%20%5B42.344275%2C%20-88.00454%5D%2C%20%5B39.098204%2C%20-77.533401%5D%2C%20%5B42.39215%2C%20-87.884209%5D%2C%20%5B33.773678%2C%20-84.390031%5D%2C%20%5B41.08925%2C%20-111.98917%5D%2C%20%5B30.252458%2C%20-97.735484%5D%2C%20%5B43.175373%2C%20-77.595141%5D%2C%20%5B35.923868%2C%20-79.175792%5D%2C%20%5B25.93206%2C%20-80.20382%5D%2C%20%5B39.92419%2C%20-86.19487%5D%2C%20%5B45.2521%2C%20-123.03479%5D%2C%20%5B41.65329%2C%20-88.13011%5D%2C%20%5B47.238462%2C%20-122.416382%5D%2C%20%5B43.99695%2C%20-124.10147%5D%2C%20%5B30.473257%2C%20-84.243619%5D%2C%20%5B33.77134%2C%20-117.99789%5D%2C%20%5B37.257318%2C%20-121.796237%5D%2C%20%5B32.362118%2C%20-95.318567%5D%2C%20%5B35.20395%2C%20-80.75038%5D%2C%20%5B37.74566%2C%20-121.361832%5D%2C%20%5B25.899987%2C%20-80.161937%5D%2C%20%5B32.833908%2C%20-96.610515%5D%2C%20%5B38.617735%2C%20-121.382879%5D%2C%20%5B45.035115%2C%20-93.08425%5D%2C%20%5B41.78989%2C%20-72.65634%5D%2C%20%5B33.09915%2C%20-117.307949%5D%2C%20%5B38.880214%2C%20-77.238095%5D%2C%20%5B41.07749%2C%20-73.53388%5D%2C%20%5B36.7544%2C%20-76.51543%5D%2C%20%5B37.446347%2C%20-77.619426%5D%2C%20%5B38.012641%2C%20-122.002004%5D%2C%20%5B34.0186%2C%20-117.5103%5D%2C%20%5B34.884301%2C%20-82.196301%5D%2C%20%5B25.722911%2C%20-80.382859%5D%2C%20%5B34.376023%2C%20-80.043426%5D%2C%20%5B33.74994%2C%20-118.279371%5D%2C%20%5B41.054331%2C%20-73.525539%5D%2C%20%5B39.30517%2C%20-76.74907%5D%2C%20%5B37.768575%2C%20-122.153605%5D%2C%20%5B39.866584%2C%20-86.047314%5D%2C%20%5B37.890075%2C%20-121.602322%5D%2C%20%5B34.031106%2C%20-118.274935%5D%2C%20%5B37.116891%2C%20-121.625078%5D%2C%20%5B44.10381%2C%20-121.30612%5D%2C%20%5B39.377181%2C%20-78.035296%5D%2C%20%5B34.02391%2C%20-117.76547%5D%2C%20%5B35.015433%2C%20-82.331764%5D%2C%20%5B30.256315%2C%20-81.442583%5D%2C%20%5B33.696102%2C%20-117.084844%5D%2C%20%5B43.88769%2C%20-91.33922%5D%2C%20%5B29.695647%2C%20-95.244169%5D%2C%20%5B42.412043%2C%20-83.218699%5D%2C%20%5B35.14722%2C%20-80.72427%5D%2C%20%5B34.13556%2C%20-117.98751%5D%2C%20%5B36.599198%2C%20-119.502403%5D%2C%20%5B41.899579%2C%20-78.369909%5D%2C%20%5B33.56583%2C%20-112.27119%5D%2C%20%5B37.56237%2C%20-77.370448%5D%2C%20%5B35.2026%2C%20-85.20748%5D%2C%20%5B30.256315%2C%20-81.442583%5D%2C%20%5B37.034341%2C%20-76.360421%5D%2C%20%5B37.753061%2C%20-122.402799%5D%2C%20%5B34.06691%2C%20-117.44019%5D%2C%20%5B38.798185%2C%20-77.06951%5D%2C%20%5B34.86621%2C%20-114.59776%5D%2C%20%5B36.191872%2C%20-86.780587%5D%5D%2C%0A%20%20%20%20%20%20%20%20%20%20%20%20%20%20%20%20%7B%22blur%22%3A%2015%2C%20%22maxZoom%22%3A%2018%2C%20%22minOpacity%22%3A%200.5%2C%20%22radius%22%3A%2025%7D%0A%20%20%20%20%20%20%20%20%20%20%20%20%29.addTo%28map_9704f241ebb34e8bbf1bd690caccf010%29%3B%0A%20%20%20%20%20%20%20%20%0A%3C/script%3E onload=\"this.contentDocument.open();this.contentDocument.write(    decodeURIComponent(this.getAttribute('data-html')));this.contentDocument.close();\" allowfullscreen webkitallowfullscreen mozallowfullscreen></iframe></div></div>"
      ],
      "text/plain": [
       "<folium.folium.Map at 0x7f995f8f6fa0>"
      ]
     },
     "execution_count": 63,
     "metadata": {},
     "output_type": "execute_result"
    }
   ],
   "source": [
    "map = folium.Map()\n",
    "HeatMap(lat_lon_pairs).add_to(map)\n",
    "map"
   ]
  }
 ],
 "metadata": {
  "kernelspec": {
   "display_name": "Python 3 (ipykernel)",
   "language": "python",
   "name": "python3"
  },
  "language_info": {
   "codemirror_mode": {
    "name": "ipython",
    "version": 3
   },
   "file_extension": ".py",
   "mimetype": "text/x-python",
   "name": "python",
   "nbconvert_exporter": "python",
   "pygments_lexer": "ipython3",
   "version": "3.9.7"
  }
 },
 "nbformat": 4,
 "nbformat_minor": 5
}
